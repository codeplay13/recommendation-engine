{
 "cells": [
  {
   "cell_type": "markdown",
   "metadata": {},
   "source": [
    "### imports"
   ]
  },
  {
   "cell_type": "code",
   "execution_count": 94,
   "metadata": {},
   "outputs": [
    {
     "name": "stdout",
     "output_type": "stream",
     "text": [
      "[nltk_data] Downloading package wordnet to\n",
      "[nltk_data]     C:\\Users\\HP\\AppData\\Roaming\\nltk_data...\n",
      "[nltk_data]   Package wordnet is already up-to-date!\n"
     ]
    }
   ],
   "source": [
    "import re\n",
    "import json\n",
    "import string\n",
    "import warnings\n",
    "import numpy as np\n",
    "import pandas as pd\n",
    "import matplotlib.pyplot as plt\n",
    "import matplotlib.style as style\n",
    "import seaborn as sns\n",
    "import nltk\n",
    "\n",
    "from multiprocessing import Pool\n",
    "from nltk.corpus import stopwords\n",
    "from nltk.stem.wordnet import WordNetLemmatizer\n",
    "from sklearn.feature_extraction.text import CountVectorizer\n",
    "from sklearn.feature_extraction.text import TfidfVectorizer\n",
    "from sklearn.metrics.pairwise import cosine_similarity\n",
    "from glob import glob\n",
    "from tqdm import tqdm as tq\n",
    "from tqdm import tqdm_notebook as tqdm\n",
    "\n",
    "warnings.filterwarnings(action='ignore')\n",
    "tq.pandas()\n",
    "%matplotlib inline\n",
    "nltk.download('wordnet')\n",
    "stop = stopwords.words('english')"
   ]
  },
  {
   "cell_type": "markdown",
   "metadata": {},
   "source": [
    "#### to make the plots look better"
   ]
  },
  {
   "cell_type": "code",
   "execution_count": 2,
   "metadata": {},
   "outputs": [],
   "source": [
    "style.use('seaborn-poster') #sets the size of the charts\n",
    "style.use('ggplot')\n",
    "sns.set_context('paper')\n",
    "sns.set(font_scale=1.5)"
   ]
  },
  {
   "cell_type": "markdown",
   "metadata": {},
   "source": [
    "### loading data"
   ]
  },
  {
   "cell_type": "code",
   "execution_count": 3,
   "metadata": {},
   "outputs": [],
   "source": [
    "files = glob(\"json/*.json\")"
   ]
  },
  {
   "cell_type": "code",
   "execution_count": 132,
   "metadata": {},
   "outputs": [
    {
     "data": {
      "text/plain": [
       "12773"
      ]
     },
     "execution_count": 132,
     "metadata": {},
     "output_type": "execute_result"
    }
   ],
   "source": [
    "len(files)"
   ]
  },
  {
   "cell_type": "code",
   "execution_count": 5,
   "metadata": {},
   "outputs": [],
   "source": [
    "with open(files[0], 'r') as file:\n",
    "    data = json.load(file)"
   ]
  },
  {
   "cell_type": "code",
   "execution_count": 6,
   "metadata": {},
   "outputs": [
    {
     "data": {
      "text/plain": [
       "dict_keys(['Reviews', 'HotelInfo'])"
      ]
     },
     "execution_count": 6,
     "metadata": {},
     "output_type": "execute_result"
    }
   ],
   "source": [
    "data.keys()"
   ]
  },
  {
   "cell_type": "code",
   "execution_count": 7,
   "metadata": {},
   "outputs": [
    {
     "data": {
      "application/vnd.jupyter.widget-view+json": {
       "model_id": "17005e47132d4a97bd3a3a0eb9da85cd",
       "version_major": 2,
       "version_minor": 0
      },
      "text/html": [
       "<p>Failed to display Jupyter Widget of type <code>HBox</code>.</p>\n",
       "<p>\n",
       "  If you're reading this message in the Jupyter Notebook or JupyterLab Notebook, it may mean\n",
       "  that the widgets JavaScript is still loading. If this message persists, it\n",
       "  likely means that the widgets JavaScript library is either not installed or\n",
       "  not enabled. See the <a href=\"https://ipywidgets.readthedocs.io/en/stable/user_install.html\">Jupyter\n",
       "  Widgets Documentation</a> for setup instructions.\n",
       "</p>\n",
       "<p>\n",
       "  If you're reading this message in another frontend (for example, a static\n",
       "  rendering on GitHub or <a href=\"https://nbviewer.jupyter.org/\">NBViewer</a>),\n",
       "  it may mean that your frontend doesn't currently support widgets.\n",
       "</p>\n"
      ],
      "text/plain": [
       "HBox(children=(IntProgress(value=0, max=6500), HTML(value='')))"
      ]
     },
     "metadata": {},
     "output_type": "display_data"
    },
    {
     "name": "stdout",
     "output_type": "stream",
     "text": [
      "\n"
     ]
    }
   ],
   "source": [
    "df_list = list()\n",
    "for file in tqdm(files[:6500]): ## using a little more than 50% data\n",
    "    with open(file, 'r') as f:\n",
    "        data = json.load(f)\n",
    "        reviews = pd.io.json.json_normalize(data['Reviews'], sep='-')\n",
    "        hotelinfo = pd.io.json.json_normalize(data['HotelInfo'], sep='-')\n",
    "        hotelinfo = hotelinfo.loc[hotelinfo.index.repeat(len(reviews))]\n",
    "        reviews.reset_index(drop=True, inplace=True)\n",
    "        hotelinfo.reset_index(drop=True, inplace=True)\n",
    "        df = pd.concat([reviews, hotelinfo], axis=1)\n",
    "        df_list.append(df)"
   ]
  },
  {
   "cell_type": "code",
   "execution_count": 8,
   "metadata": {},
   "outputs": [],
   "source": [
    "df = pd.concat(df_list, sort=False)"
   ]
  },
  {
   "cell_type": "code",
   "execution_count": 9,
   "metadata": {},
   "outputs": [],
   "source": [
    "df.reset_index(drop=True, inplace=True)"
   ]
  },
  {
   "cell_type": "markdown",
   "metadata": {},
   "source": [
    "### checking memory usage"
   ]
  },
  {
   "cell_type": "code",
   "execution_count": 10,
   "metadata": {},
   "outputs": [
    {
     "data": {
      "text/plain": [
       "146.59523010253906"
      ]
     },
     "execution_count": 10,
     "metadata": {},
     "output_type": "execute_result"
    }
   ],
   "source": [
    "df.memory_usage(index=True).sum()/(1024**2)  ## in MB"
   ]
  },
  {
   "cell_type": "markdown",
   "metadata": {},
   "source": [
    "### looking into data"
   ]
  },
  {
   "cell_type": "code",
   "execution_count": 11,
   "metadata": {},
   "outputs": [
    {
     "data": {
      "text/html": [
       "<div>\n",
       "<style scoped>\n",
       "    .dataframe tbody tr th:only-of-type {\n",
       "        vertical-align: middle;\n",
       "    }\n",
       "\n",
       "    .dataframe tbody tr th {\n",
       "        vertical-align: top;\n",
       "    }\n",
       "\n",
       "    .dataframe thead th {\n",
       "        text-align: right;\n",
       "    }\n",
       "</style>\n",
       "<table border=\"1\" class=\"dataframe\">\n",
       "  <thead>\n",
       "    <tr style=\"text-align: right;\">\n",
       "      <th></th>\n",
       "      <th>AuthorLocation</th>\n",
       "      <th>Title</th>\n",
       "      <th>Author</th>\n",
       "      <th>ReviewID</th>\n",
       "      <th>Content</th>\n",
       "      <th>Date</th>\n",
       "      <th>Ratings-Service</th>\n",
       "      <th>Ratings-Cleanliness</th>\n",
       "      <th>Ratings-Overall</th>\n",
       "      <th>Ratings-Value</th>\n",
       "      <th>...</th>\n",
       "      <th>Ratings-Location</th>\n",
       "      <th>Ratings-Business service (e.g., internet access)</th>\n",
       "      <th>Ratings-Check in / front desk</th>\n",
       "      <th>Name</th>\n",
       "      <th>HotelURL</th>\n",
       "      <th>Price</th>\n",
       "      <th>Address</th>\n",
       "      <th>HotelID</th>\n",
       "      <th>ImgURL</th>\n",
       "      <th>Ratings-Business service</th>\n",
       "    </tr>\n",
       "  </thead>\n",
       "  <tbody>\n",
       "    <tr>\n",
       "      <td>0</td>\n",
       "      <td>Jacksonville, Florida</td>\n",
       "      <td>“Great place and location”</td>\n",
       "      <td>Nadine R</td>\n",
       "      <td>UR128178025</td>\n",
       "      <td>Usually stay near the airport, but this trip w...</td>\n",
       "      <td>April 19, 2012</td>\n",
       "      <td>5</td>\n",
       "      <td>5</td>\n",
       "      <td>5.0</td>\n",
       "      <td>5</td>\n",
       "      <td>...</td>\n",
       "      <td>5</td>\n",
       "      <td>NaN</td>\n",
       "      <td>NaN</td>\n",
       "      <td>Hilton Garden Inn Baltimore White Marsh</td>\n",
       "      <td>/ShowUserReviews-g60811-d100407-Reviews-Hilton...</td>\n",
       "      <td>$135 - $193*</td>\n",
       "      <td>&lt;address&gt;&lt;span rel=\"v:address\"&gt;&lt;span dir=\"ltr\"...</td>\n",
       "      <td>100407</td>\n",
       "      <td>http://media-cdn.tripadvisor.com/media/Provide...</td>\n",
       "      <td>NaN</td>\n",
       "    </tr>\n",
       "    <tr>\n",
       "      <td>1</td>\n",
       "      <td>Chillicothe, Ohio</td>\n",
       "      <td>“Nice stay, nice surroundings”</td>\n",
       "      <td>blt3116</td>\n",
       "      <td>UR123847354</td>\n",
       "      <td>Stayed at this Hilton for 2 nights. It was lik...</td>\n",
       "      <td>January 30, 2012</td>\n",
       "      <td>4</td>\n",
       "      <td>4</td>\n",
       "      <td>4.0</td>\n",
       "      <td>4</td>\n",
       "      <td>...</td>\n",
       "      <td>5</td>\n",
       "      <td>NaN</td>\n",
       "      <td>NaN</td>\n",
       "      <td>Hilton Garden Inn Baltimore White Marsh</td>\n",
       "      <td>/ShowUserReviews-g60811-d100407-Reviews-Hilton...</td>\n",
       "      <td>$135 - $193*</td>\n",
       "      <td>&lt;address&gt;&lt;span rel=\"v:address\"&gt;&lt;span dir=\"ltr\"...</td>\n",
       "      <td>100407</td>\n",
       "      <td>http://media-cdn.tripadvisor.com/media/Provide...</td>\n",
       "      <td>NaN</td>\n",
       "    </tr>\n",
       "    <tr>\n",
       "      <td>2</td>\n",
       "      <td>Northern Virginia</td>\n",
       "      <td>“Perfect for an overnight just off I-95”</td>\n",
       "      <td>ExSpec5</td>\n",
       "      <td>UR122192448</td>\n",
       "      <td>Stayed there one night, December 16, on the wa...</td>\n",
       "      <td>December 28, 2011</td>\n",
       "      <td>5</td>\n",
       "      <td>5</td>\n",
       "      <td>4.0</td>\n",
       "      <td>3</td>\n",
       "      <td>...</td>\n",
       "      <td>5</td>\n",
       "      <td>NaN</td>\n",
       "      <td>NaN</td>\n",
       "      <td>Hilton Garden Inn Baltimore White Marsh</td>\n",
       "      <td>/ShowUserReviews-g60811-d100407-Reviews-Hilton...</td>\n",
       "      <td>$135 - $193*</td>\n",
       "      <td>&lt;address&gt;&lt;span rel=\"v:address\"&gt;&lt;span dir=\"ltr\"...</td>\n",
       "      <td>100407</td>\n",
       "      <td>http://media-cdn.tripadvisor.com/media/Provide...</td>\n",
       "      <td>NaN</td>\n",
       "    </tr>\n",
       "    <tr>\n",
       "      <td>3</td>\n",
       "      <td>Raleigh</td>\n",
       "      <td>“Great Hotel”</td>\n",
       "      <td>kevinlynch3</td>\n",
       "      <td>UR122031890</td>\n",
       "      <td>I just stayed here last weekend and have alrea...</td>\n",
       "      <td>December 23, 2011</td>\n",
       "      <td>5</td>\n",
       "      <td>5</td>\n",
       "      <td>5.0</td>\n",
       "      <td>4</td>\n",
       "      <td>...</td>\n",
       "      <td>5</td>\n",
       "      <td>NaN</td>\n",
       "      <td>NaN</td>\n",
       "      <td>Hilton Garden Inn Baltimore White Marsh</td>\n",
       "      <td>/ShowUserReviews-g60811-d100407-Reviews-Hilton...</td>\n",
       "      <td>$135 - $193*</td>\n",
       "      <td>&lt;address&gt;&lt;span rel=\"v:address\"&gt;&lt;span dir=\"ltr\"...</td>\n",
       "      <td>100407</td>\n",
       "      <td>http://media-cdn.tripadvisor.com/media/Provide...</td>\n",
       "      <td>NaN</td>\n",
       "    </tr>\n",
       "    <tr>\n",
       "      <td>4</td>\n",
       "      <td>Belmont, MA</td>\n",
       "      <td>“good room for handicapped person”</td>\n",
       "      <td>nobumponalog</td>\n",
       "      <td>UR119295575</td>\n",
       "      <td>My mother who is 90 and I stayed one night on ...</td>\n",
       "      <td>October 14, 2011</td>\n",
       "      <td>5</td>\n",
       "      <td>5</td>\n",
       "      <td>5.0</td>\n",
       "      <td>4</td>\n",
       "      <td>...</td>\n",
       "      <td>5</td>\n",
       "      <td>NaN</td>\n",
       "      <td>NaN</td>\n",
       "      <td>Hilton Garden Inn Baltimore White Marsh</td>\n",
       "      <td>/ShowUserReviews-g60811-d100407-Reviews-Hilton...</td>\n",
       "      <td>$135 - $193*</td>\n",
       "      <td>&lt;address&gt;&lt;span rel=\"v:address\"&gt;&lt;span dir=\"ltr\"...</td>\n",
       "      <td>100407</td>\n",
       "      <td>http://media-cdn.tripadvisor.com/media/Provide...</td>\n",
       "      <td>NaN</td>\n",
       "    </tr>\n",
       "  </tbody>\n",
       "</table>\n",
       "<p>5 rows × 22 columns</p>\n",
       "</div>"
      ],
      "text/plain": [
       "          AuthorLocation                                     Title  \\\n",
       "0  Jacksonville, Florida                “Great place and location”   \n",
       "1      Chillicothe, Ohio            “Nice stay, nice surroundings”   \n",
       "2      Northern Virginia  “Perfect for an overnight just off I-95”   \n",
       "3                Raleigh                             “Great Hotel”   \n",
       "4            Belmont, MA        “good room for handicapped person”   \n",
       "\n",
       "         Author     ReviewID  \\\n",
       "0      Nadine R  UR128178025   \n",
       "1       blt3116  UR123847354   \n",
       "2       ExSpec5  UR122192448   \n",
       "3   kevinlynch3  UR122031890   \n",
       "4  nobumponalog  UR119295575   \n",
       "\n",
       "                                             Content               Date  \\\n",
       "0  Usually stay near the airport, but this trip w...     April 19, 2012   \n",
       "1  Stayed at this Hilton for 2 nights. It was lik...   January 30, 2012   \n",
       "2  Stayed there one night, December 16, on the wa...  December 28, 2011   \n",
       "3  I just stayed here last weekend and have alrea...  December 23, 2011   \n",
       "4  My mother who is 90 and I stayed one night on ...   October 14, 2011   \n",
       "\n",
       "  Ratings-Service Ratings-Cleanliness Ratings-Overall Ratings-Value  ...  \\\n",
       "0               5                   5             5.0             5  ...   \n",
       "1               4                   4             4.0             4  ...   \n",
       "2               5                   5             4.0             3  ...   \n",
       "3               5                   5             5.0             4  ...   \n",
       "4               5                   5             5.0             4  ...   \n",
       "\n",
       "  Ratings-Location Ratings-Business service (e.g., internet access)  \\\n",
       "0                5                                              NaN   \n",
       "1                5                                              NaN   \n",
       "2                5                                              NaN   \n",
       "3                5                                              NaN   \n",
       "4                5                                              NaN   \n",
       "\n",
       "  Ratings-Check in / front desk                                     Name  \\\n",
       "0                           NaN  Hilton Garden Inn Baltimore White Marsh   \n",
       "1                           NaN  Hilton Garden Inn Baltimore White Marsh   \n",
       "2                           NaN  Hilton Garden Inn Baltimore White Marsh   \n",
       "3                           NaN  Hilton Garden Inn Baltimore White Marsh   \n",
       "4                           NaN  Hilton Garden Inn Baltimore White Marsh   \n",
       "\n",
       "                                            HotelURL         Price  \\\n",
       "0  /ShowUserReviews-g60811-d100407-Reviews-Hilton...  $135 - $193*   \n",
       "1  /ShowUserReviews-g60811-d100407-Reviews-Hilton...  $135 - $193*   \n",
       "2  /ShowUserReviews-g60811-d100407-Reviews-Hilton...  $135 - $193*   \n",
       "3  /ShowUserReviews-g60811-d100407-Reviews-Hilton...  $135 - $193*   \n",
       "4  /ShowUserReviews-g60811-d100407-Reviews-Hilton...  $135 - $193*   \n",
       "\n",
       "                                             Address HotelID  \\\n",
       "0  <address><span rel=\"v:address\"><span dir=\"ltr\"...  100407   \n",
       "1  <address><span rel=\"v:address\"><span dir=\"ltr\"...  100407   \n",
       "2  <address><span rel=\"v:address\"><span dir=\"ltr\"...  100407   \n",
       "3  <address><span rel=\"v:address\"><span dir=\"ltr\"...  100407   \n",
       "4  <address><span rel=\"v:address\"><span dir=\"ltr\"...  100407   \n",
       "\n",
       "                                              ImgURL Ratings-Business service  \n",
       "0  http://media-cdn.tripadvisor.com/media/Provide...                      NaN  \n",
       "1  http://media-cdn.tripadvisor.com/media/Provide...                      NaN  \n",
       "2  http://media-cdn.tripadvisor.com/media/Provide...                      NaN  \n",
       "3  http://media-cdn.tripadvisor.com/media/Provide...                      NaN  \n",
       "4  http://media-cdn.tripadvisor.com/media/Provide...                      NaN  \n",
       "\n",
       "[5 rows x 22 columns]"
      ]
     },
     "execution_count": 11,
     "metadata": {},
     "output_type": "execute_result"
    }
   ],
   "source": [
    "df.head()"
   ]
  },
  {
   "cell_type": "code",
   "execution_count": 12,
   "metadata": {},
   "outputs": [
    {
     "data": {
      "text/plain": [
       "(873387, 22)"
      ]
     },
     "execution_count": 12,
     "metadata": {},
     "output_type": "execute_result"
    }
   ],
   "source": [
    "df.shape"
   ]
  },
  {
   "cell_type": "code",
   "execution_count": 13,
   "metadata": {},
   "outputs": [
    {
     "data": {
      "text/plain": [
       "Index(['AuthorLocation', 'Title', 'Author', 'ReviewID', 'Content', 'Date',\n",
       "       'Ratings-Service', 'Ratings-Cleanliness', 'Ratings-Overall',\n",
       "       'Ratings-Value', 'Ratings-Sleep Quality', 'Ratings-Rooms',\n",
       "       'Ratings-Location', 'Ratings-Business service (e.g., internet access)',\n",
       "       'Ratings-Check in / front desk', 'Name', 'HotelURL', 'Price', 'Address',\n",
       "       'HotelID', 'ImgURL', 'Ratings-Business service'],\n",
       "      dtype='object')"
      ]
     },
     "execution_count": 13,
     "metadata": {},
     "output_type": "execute_result"
    }
   ],
   "source": [
    "df.columns"
   ]
  },
  {
   "cell_type": "markdown",
   "metadata": {},
   "source": [
    "NOTE: 2 similar columns (Ratings-Business service, Ratings-Business service (e.g., internet access))"
   ]
  },
  {
   "cell_type": "markdown",
   "metadata": {},
   "source": [
    "checking if there are any overlapping values for these columns"
   ]
  },
  {
   "cell_type": "code",
   "execution_count": 14,
   "metadata": {},
   "outputs": [
    {
     "data": {
      "text/html": [
       "<div>\n",
       "<style scoped>\n",
       "    .dataframe tbody tr th:only-of-type {\n",
       "        vertical-align: middle;\n",
       "    }\n",
       "\n",
       "    .dataframe tbody tr th {\n",
       "        vertical-align: top;\n",
       "    }\n",
       "\n",
       "    .dataframe thead th {\n",
       "        text-align: right;\n",
       "    }\n",
       "</style>\n",
       "<table border=\"1\" class=\"dataframe\">\n",
       "  <thead>\n",
       "    <tr style=\"text-align: right;\">\n",
       "      <th></th>\n",
       "      <th>AuthorLocation</th>\n",
       "      <th>Title</th>\n",
       "      <th>Author</th>\n",
       "      <th>ReviewID</th>\n",
       "      <th>Content</th>\n",
       "      <th>Date</th>\n",
       "      <th>Ratings-Service</th>\n",
       "      <th>Ratings-Cleanliness</th>\n",
       "      <th>Ratings-Overall</th>\n",
       "      <th>Ratings-Value</th>\n",
       "      <th>...</th>\n",
       "      <th>Ratings-Location</th>\n",
       "      <th>Ratings-Business service (e.g., internet access)</th>\n",
       "      <th>Ratings-Check in / front desk</th>\n",
       "      <th>Name</th>\n",
       "      <th>HotelURL</th>\n",
       "      <th>Price</th>\n",
       "      <th>Address</th>\n",
       "      <th>HotelID</th>\n",
       "      <th>ImgURL</th>\n",
       "      <th>Ratings-Business service</th>\n",
       "    </tr>\n",
       "  </thead>\n",
       "  <tbody>\n",
       "  </tbody>\n",
       "</table>\n",
       "<p>0 rows × 22 columns</p>\n",
       "</div>"
      ],
      "text/plain": [
       "Empty DataFrame\n",
       "Columns: [AuthorLocation, Title, Author, ReviewID, Content, Date, Ratings-Service, Ratings-Cleanliness, Ratings-Overall, Ratings-Value, Ratings-Sleep Quality, Ratings-Rooms, Ratings-Location, Ratings-Business service (e.g., internet access), Ratings-Check in / front desk, Name, HotelURL, Price, Address, HotelID, ImgURL, Ratings-Business service]\n",
       "Index: []\n",
       "\n",
       "[0 rows x 22 columns]"
      ]
     },
     "execution_count": 14,
     "metadata": {},
     "output_type": "execute_result"
    }
   ],
   "source": [
    "df[(df['Ratings-Business service (e.g., internet access)'].notnull()) & (df['Ratings-Business service'].notnull())]"
   ]
  },
  {
   "cell_type": "markdown",
   "metadata": {},
   "source": [
    "no overlapping values. So we can merge them."
   ]
  },
  {
   "cell_type": "code",
   "execution_count": 15,
   "metadata": {},
   "outputs": [
    {
     "data": {
      "text/plain": [
       "AuthorLocation                                      820475\n",
       "Title                                               820475\n",
       "Author                                              873387\n",
       "ReviewID                                            873387\n",
       "Content                                             873387\n",
       "Date                                                873387\n",
       "Ratings-Service                                     798764\n",
       "Ratings-Cleanliness                                 797389\n",
       "Ratings-Overall                                     873387\n",
       "Ratings-Value                                       798740\n",
       "Ratings-Sleep Quality                               433139\n",
       "Ratings-Rooms                                       724624\n",
       "Ratings-Location                                    684049\n",
       "Ratings-Business service (e.g., internet access)     83502\n",
       "Ratings-Check in / front desk                       190600\n",
       "Name                                                820475\n",
       "HotelURL                                            870151\n",
       "Price                                               873387\n",
       "Address                                             820475\n",
       "HotelID                                             873387\n",
       "ImgURL                                              820475\n",
       "Ratings-Business service                             52912\n",
       "dtype: int64"
      ]
     },
     "execution_count": 15,
     "metadata": {},
     "output_type": "execute_result"
    }
   ],
   "source": [
    "df.count()"
   ]
  },
  {
   "cell_type": "markdown",
   "metadata": {},
   "source": [
    "Ratings-Business service (e.g., internet access) -> 83502\n",
    "\n",
    "Ratings-Business service -> 52912\n",
    "\n",
    "Combined column should be -> 136414"
   ]
  },
  {
   "cell_type": "code",
   "execution_count": 12,
   "metadata": {},
   "outputs": [],
   "source": [
    "df['Ratings-Business service'].fillna(df['Ratings-Business service (e.g., internet access)'], inplace=True)"
   ]
  },
  {
   "cell_type": "code",
   "execution_count": 13,
   "metadata": {},
   "outputs": [
    {
     "data": {
      "text/plain": [
       "136414"
      ]
     },
     "execution_count": 13,
     "metadata": {},
     "output_type": "execute_result"
    }
   ],
   "source": [
    "df['Ratings-Business service'].count()"
   ]
  },
  {
   "cell_type": "markdown",
   "metadata": {},
   "source": [
    "### dropping unwanted columns"
   ]
  },
  {
   "cell_type": "code",
   "execution_count": 13,
   "metadata": {},
   "outputs": [
    {
     "data": {
      "text/plain": [
       "Index(['AuthorLocation', 'Title', 'Author', 'ReviewID', 'Content', 'Date',\n",
       "       'Ratings-Service', 'Ratings-Cleanliness', 'Ratings-Overall',\n",
       "       'Ratings-Value', 'Ratings-Sleep Quality', 'Ratings-Rooms',\n",
       "       'Ratings-Location', 'Ratings-Business service (e.g., internet access)',\n",
       "       'Ratings-Check in / front desk', 'Name', 'HotelURL', 'Price', 'Address',\n",
       "       'HotelID', 'ImgURL', 'Ratings-Business service'],\n",
       "      dtype='object')"
      ]
     },
     "execution_count": 13,
     "metadata": {},
     "output_type": "execute_result"
    }
   ],
   "source": [
    "df.columns"
   ]
  },
  {
   "cell_type": "code",
   "execution_count": 14,
   "metadata": {},
   "outputs": [],
   "source": [
    "unwanted_columns = ['Ratings-Business service (e.g., internet access)', 'HotelURL', 'ImgURL', 'AuthorLocation', 'ReviewID', 'Date', 'Address']"
   ]
  },
  {
   "cell_type": "code",
   "execution_count": 15,
   "metadata": {},
   "outputs": [],
   "source": [
    "df_clean = df.drop(unwanted_columns, axis=1)"
   ]
  },
  {
   "cell_type": "markdown",
   "metadata": {},
   "source": [
    "### EDA"
   ]
  },
  {
   "cell_type": "code",
   "execution_count": 16,
   "metadata": {},
   "outputs": [
    {
     "data": {
      "text/html": [
       "<div>\n",
       "<style scoped>\n",
       "    .dataframe tbody tr th:only-of-type {\n",
       "        vertical-align: middle;\n",
       "    }\n",
       "\n",
       "    .dataframe tbody tr th {\n",
       "        vertical-align: top;\n",
       "    }\n",
       "\n",
       "    .dataframe thead th {\n",
       "        text-align: right;\n",
       "    }\n",
       "</style>\n",
       "<table border=\"1\" class=\"dataframe\">\n",
       "  <thead>\n",
       "    <tr style=\"text-align: right;\">\n",
       "      <th></th>\n",
       "      <th>Title</th>\n",
       "      <th>Author</th>\n",
       "      <th>Content</th>\n",
       "      <th>Ratings-Service</th>\n",
       "      <th>Ratings-Cleanliness</th>\n",
       "      <th>Ratings-Overall</th>\n",
       "      <th>Ratings-Value</th>\n",
       "      <th>Ratings-Sleep Quality</th>\n",
       "      <th>Ratings-Rooms</th>\n",
       "      <th>Ratings-Location</th>\n",
       "      <th>Ratings-Check in / front desk</th>\n",
       "      <th>Name</th>\n",
       "      <th>Price</th>\n",
       "      <th>HotelID</th>\n",
       "      <th>Ratings-Business service</th>\n",
       "    </tr>\n",
       "  </thead>\n",
       "  <tbody>\n",
       "    <tr>\n",
       "      <td>0</td>\n",
       "      <td>“Great place and location”</td>\n",
       "      <td>Nadine R</td>\n",
       "      <td>Usually stay near the airport, but this trip w...</td>\n",
       "      <td>5</td>\n",
       "      <td>5</td>\n",
       "      <td>5.0</td>\n",
       "      <td>5</td>\n",
       "      <td>5</td>\n",
       "      <td>5</td>\n",
       "      <td>5</td>\n",
       "      <td>NaN</td>\n",
       "      <td>Hilton Garden Inn Baltimore White Marsh</td>\n",
       "      <td>$135 - $193*</td>\n",
       "      <td>100407</td>\n",
       "      <td>NaN</td>\n",
       "    </tr>\n",
       "    <tr>\n",
       "      <td>1</td>\n",
       "      <td>“Nice stay, nice surroundings”</td>\n",
       "      <td>blt3116</td>\n",
       "      <td>Stayed at this Hilton for 2 nights. It was lik...</td>\n",
       "      <td>4</td>\n",
       "      <td>4</td>\n",
       "      <td>4.0</td>\n",
       "      <td>4</td>\n",
       "      <td>4</td>\n",
       "      <td>4</td>\n",
       "      <td>5</td>\n",
       "      <td>NaN</td>\n",
       "      <td>Hilton Garden Inn Baltimore White Marsh</td>\n",
       "      <td>$135 - $193*</td>\n",
       "      <td>100407</td>\n",
       "      <td>NaN</td>\n",
       "    </tr>\n",
       "    <tr>\n",
       "      <td>2</td>\n",
       "      <td>“Perfect for an overnight just off I-95”</td>\n",
       "      <td>ExSpec5</td>\n",
       "      <td>Stayed there one night, December 16, on the wa...</td>\n",
       "      <td>5</td>\n",
       "      <td>5</td>\n",
       "      <td>4.0</td>\n",
       "      <td>3</td>\n",
       "      <td>3</td>\n",
       "      <td>5</td>\n",
       "      <td>5</td>\n",
       "      <td>NaN</td>\n",
       "      <td>Hilton Garden Inn Baltimore White Marsh</td>\n",
       "      <td>$135 - $193*</td>\n",
       "      <td>100407</td>\n",
       "      <td>NaN</td>\n",
       "    </tr>\n",
       "    <tr>\n",
       "      <td>3</td>\n",
       "      <td>“Great Hotel”</td>\n",
       "      <td>kevinlynch3</td>\n",
       "      <td>I just stayed here last weekend and have alrea...</td>\n",
       "      <td>5</td>\n",
       "      <td>5</td>\n",
       "      <td>5.0</td>\n",
       "      <td>4</td>\n",
       "      <td>5</td>\n",
       "      <td>5</td>\n",
       "      <td>5</td>\n",
       "      <td>NaN</td>\n",
       "      <td>Hilton Garden Inn Baltimore White Marsh</td>\n",
       "      <td>$135 - $193*</td>\n",
       "      <td>100407</td>\n",
       "      <td>NaN</td>\n",
       "    </tr>\n",
       "    <tr>\n",
       "      <td>4</td>\n",
       "      <td>“good room for handicapped person”</td>\n",
       "      <td>nobumponalog</td>\n",
       "      <td>My mother who is 90 and I stayed one night on ...</td>\n",
       "      <td>5</td>\n",
       "      <td>5</td>\n",
       "      <td>5.0</td>\n",
       "      <td>4</td>\n",
       "      <td>5</td>\n",
       "      <td>5</td>\n",
       "      <td>5</td>\n",
       "      <td>NaN</td>\n",
       "      <td>Hilton Garden Inn Baltimore White Marsh</td>\n",
       "      <td>$135 - $193*</td>\n",
       "      <td>100407</td>\n",
       "      <td>NaN</td>\n",
       "    </tr>\n",
       "  </tbody>\n",
       "</table>\n",
       "</div>"
      ],
      "text/plain": [
       "                                      Title        Author  \\\n",
       "0                “Great place and location”      Nadine R   \n",
       "1            “Nice stay, nice surroundings”       blt3116   \n",
       "2  “Perfect for an overnight just off I-95”       ExSpec5   \n",
       "3                             “Great Hotel”   kevinlynch3   \n",
       "4        “good room for handicapped person”  nobumponalog   \n",
       "\n",
       "                                             Content Ratings-Service  \\\n",
       "0  Usually stay near the airport, but this trip w...               5   \n",
       "1  Stayed at this Hilton for 2 nights. It was lik...               4   \n",
       "2  Stayed there one night, December 16, on the wa...               5   \n",
       "3  I just stayed here last weekend and have alrea...               5   \n",
       "4  My mother who is 90 and I stayed one night on ...               5   \n",
       "\n",
       "  Ratings-Cleanliness Ratings-Overall Ratings-Value Ratings-Sleep Quality  \\\n",
       "0                   5             5.0             5                     5   \n",
       "1                   4             4.0             4                     4   \n",
       "2                   5             4.0             3                     3   \n",
       "3                   5             5.0             4                     5   \n",
       "4                   5             5.0             4                     5   \n",
       "\n",
       "  Ratings-Rooms Ratings-Location Ratings-Check in / front desk  \\\n",
       "0             5                5                           NaN   \n",
       "1             4                5                           NaN   \n",
       "2             5                5                           NaN   \n",
       "3             5                5                           NaN   \n",
       "4             5                5                           NaN   \n",
       "\n",
       "                                      Name         Price HotelID  \\\n",
       "0  Hilton Garden Inn Baltimore White Marsh  $135 - $193*  100407   \n",
       "1  Hilton Garden Inn Baltimore White Marsh  $135 - $193*  100407   \n",
       "2  Hilton Garden Inn Baltimore White Marsh  $135 - $193*  100407   \n",
       "3  Hilton Garden Inn Baltimore White Marsh  $135 - $193*  100407   \n",
       "4  Hilton Garden Inn Baltimore White Marsh  $135 - $193*  100407   \n",
       "\n",
       "  Ratings-Business service  \n",
       "0                      NaN  \n",
       "1                      NaN  \n",
       "2                      NaN  \n",
       "3                      NaN  \n",
       "4                      NaN  "
      ]
     },
     "execution_count": 16,
     "metadata": {},
     "output_type": "execute_result"
    }
   ],
   "source": [
    "df_clean.head()"
   ]
  },
  {
   "cell_type": "code",
   "execution_count": 22,
   "metadata": {},
   "outputs": [
    {
     "data": {
      "text/plain": [
       "Title                            820475\n",
       "Author                           873387\n",
       "Content                          873387\n",
       "Ratings-Service                  798764\n",
       "Ratings-Cleanliness              797389\n",
       "Ratings-Overall                  873387\n",
       "Ratings-Value                    798740\n",
       "Ratings-Sleep Quality            433139\n",
       "Ratings-Rooms                    724624\n",
       "Ratings-Location                 684049\n",
       "Ratings-Check in / front desk    190600\n",
       "Name                             820475\n",
       "Price                            873387\n",
       "HotelID                          873387\n",
       "Ratings-Business service         136414\n",
       "dtype: int64"
      ]
     },
     "execution_count": 22,
     "metadata": {},
     "output_type": "execute_result"
    }
   ],
   "source": [
    "df_clean.count()"
   ]
  },
  {
   "cell_type": "code",
   "execution_count": 44,
   "metadata": {},
   "outputs": [
    {
     "data": {
      "text/plain": [
       "317"
      ]
     },
     "execution_count": 44,
     "metadata": {},
     "output_type": "execute_result"
    }
   ],
   "source": [
    "temp = df_clean['Author'].value_counts()\n",
    "temp[temp>15].count()"
   ]
  },
  {
   "cell_type": "markdown",
   "metadata": {},
   "source": [
    "#### total unique hotels"
   ]
  },
  {
   "cell_type": "code",
   "execution_count": 58,
   "metadata": {},
   "outputs": [
    {
     "data": {
      "text/plain": [
       "6482"
      ]
     },
     "execution_count": 58,
     "metadata": {},
     "output_type": "execute_result"
    }
   ],
   "source": [
    "temp = df_clean['HotelID'].value_counts()\n",
    "temp[temp>0].count()"
   ]
  },
  {
   "cell_type": "code",
   "execution_count": 25,
   "metadata": {},
   "outputs": [
    {
     "data": {
      "text/html": [
       "<div>\n",
       "<style scoped>\n",
       "    .dataframe tbody tr th:only-of-type {\n",
       "        vertical-align: middle;\n",
       "    }\n",
       "\n",
       "    .dataframe tbody tr th {\n",
       "        vertical-align: top;\n",
       "    }\n",
       "\n",
       "    .dataframe thead th {\n",
       "        text-align: right;\n",
       "    }\n",
       "</style>\n",
       "<table border=\"1\" class=\"dataframe\">\n",
       "  <thead>\n",
       "    <tr style=\"text-align: right;\">\n",
       "      <th></th>\n",
       "      <th>Title</th>\n",
       "      <th>Author</th>\n",
       "      <th>Content</th>\n",
       "      <th>Ratings-Service</th>\n",
       "      <th>Ratings-Cleanliness</th>\n",
       "      <th>Ratings-Overall</th>\n",
       "      <th>Ratings-Value</th>\n",
       "      <th>Ratings-Sleep Quality</th>\n",
       "      <th>Ratings-Rooms</th>\n",
       "      <th>Ratings-Location</th>\n",
       "      <th>Ratings-Check in / front desk</th>\n",
       "      <th>Name</th>\n",
       "      <th>Price</th>\n",
       "      <th>HotelID</th>\n",
       "      <th>Ratings-Business service</th>\n",
       "    </tr>\n",
       "  </thead>\n",
       "  <tbody>\n",
       "    <tr>\n",
       "      <td>count</td>\n",
       "      <td>820475</td>\n",
       "      <td>873387</td>\n",
       "      <td>873387</td>\n",
       "      <td>798764</td>\n",
       "      <td>797389</td>\n",
       "      <td>873387</td>\n",
       "      <td>798740</td>\n",
       "      <td>433139</td>\n",
       "      <td>724624</td>\n",
       "      <td>684049</td>\n",
       "      <td>190600</td>\n",
       "      <td>820475</td>\n",
       "      <td>873387</td>\n",
       "      <td>873387</td>\n",
       "      <td>136414</td>\n",
       "    </tr>\n",
       "    <tr>\n",
       "      <td>unique</td>\n",
       "      <td>460184</td>\n",
       "      <td>500218</td>\n",
       "      <td>682408</td>\n",
       "      <td>6</td>\n",
       "      <td>6</td>\n",
       "      <td>12</td>\n",
       "      <td>6</td>\n",
       "      <td>5</td>\n",
       "      <td>6</td>\n",
       "      <td>6</td>\n",
       "      <td>6</td>\n",
       "      <td>4491</td>\n",
       "      <td>4507</td>\n",
       "      <td>6482</td>\n",
       "      <td>6</td>\n",
       "    </tr>\n",
       "    <tr>\n",
       "      <td>top</td>\n",
       "      <td>“Great Location”</td>\n",
       "      <td>A TripAdvisor Member</td>\n",
       "      <td>I recently stayed at this hotel, primarily bec...</td>\n",
       "      <td>5</td>\n",
       "      <td>5</td>\n",
       "      <td>5.0</td>\n",
       "      <td>5</td>\n",
       "      <td>5</td>\n",
       "      <td>5</td>\n",
       "      <td>5</td>\n",
       "      <td>5</td>\n",
       "      <td>Hotel Pennsylvania New York</td>\n",
       "      <td>$109 - $278*</td>\n",
       "      <td>2515499</td>\n",
       "      <td>-1</td>\n",
       "    </tr>\n",
       "    <tr>\n",
       "      <td>freq</td>\n",
       "      <td>2984</td>\n",
       "      <td>41018</td>\n",
       "      <td>8</td>\n",
       "      <td>388843</td>\n",
       "      <td>438386</td>\n",
       "      <td>343588</td>\n",
       "      <td>319685</td>\n",
       "      <td>217502</td>\n",
       "      <td>277989</td>\n",
       "      <td>393967</td>\n",
       "      <td>74014</td>\n",
       "      <td>6261</td>\n",
       "      <td>5209</td>\n",
       "      <td>4936</td>\n",
       "      <td>37073</td>\n",
       "    </tr>\n",
       "  </tbody>\n",
       "</table>\n",
       "</div>"
      ],
      "text/plain": [
       "                   Title                Author  \\\n",
       "count             820475                873387   \n",
       "unique            460184                500218   \n",
       "top     “Great Location”  A TripAdvisor Member   \n",
       "freq                2984                 41018   \n",
       "\n",
       "                                                  Content Ratings-Service  \\\n",
       "count                                              873387          798764   \n",
       "unique                                             682408               6   \n",
       "top     I recently stayed at this hotel, primarily bec...               5   \n",
       "freq                                                    8          388843   \n",
       "\n",
       "       Ratings-Cleanliness Ratings-Overall Ratings-Value  \\\n",
       "count               797389          873387        798740   \n",
       "unique                   6              12             6   \n",
       "top                      5             5.0             5   \n",
       "freq                438386          343588        319685   \n",
       "\n",
       "       Ratings-Sleep Quality Ratings-Rooms Ratings-Location  \\\n",
       "count                 433139        724624           684049   \n",
       "unique                     5             6                6   \n",
       "top                        5             5                5   \n",
       "freq                  217502        277989           393967   \n",
       "\n",
       "       Ratings-Check in / front desk                         Name  \\\n",
       "count                         190600                       820475   \n",
       "unique                             6                         4491   \n",
       "top                                5  Hotel Pennsylvania New York   \n",
       "freq                           74014                         6261   \n",
       "\n",
       "               Price  HotelID Ratings-Business service  \n",
       "count         873387   873387                   136414  \n",
       "unique          4507     6482                        6  \n",
       "top     $109 - $278*  2515499                       -1  \n",
       "freq            5209     4936                    37073  "
      ]
     },
     "execution_count": 25,
     "metadata": {},
     "output_type": "execute_result"
    }
   ],
   "source": [
    "df_clean.describe()"
   ]
  },
  {
   "cell_type": "code",
   "execution_count": 26,
   "metadata": {},
   "outputs": [
    {
     "name": "stdout",
     "output_type": "stream",
     "text": [
      "<class 'pandas.core.frame.DataFrame'>\n",
      "RangeIndex: 873387 entries, 0 to 873386\n",
      "Data columns (total 15 columns):\n",
      "Title                            820475 non-null object\n",
      "Author                           873387 non-null object\n",
      "Content                          873387 non-null object\n",
      "Ratings-Service                  798764 non-null object\n",
      "Ratings-Cleanliness              797389 non-null object\n",
      "Ratings-Overall                  873387 non-null object\n",
      "Ratings-Value                    798740 non-null object\n",
      "Ratings-Sleep Quality            433139 non-null object\n",
      "Ratings-Rooms                    724624 non-null object\n",
      "Ratings-Location                 684049 non-null object\n",
      "Ratings-Check in / front desk    190600 non-null object\n",
      "Name                             820475 non-null object\n",
      "Price                            873387 non-null object\n",
      "HotelID                          873387 non-null object\n",
      "Ratings-Business service         136414 non-null object\n",
      "dtypes: object(15)\n",
      "memory usage: 100.0+ MB\n"
     ]
    }
   ],
   "source": [
    "df_clean.info()"
   ]
  },
  {
   "cell_type": "markdown",
   "metadata": {},
   "source": [
    "#### converting rating columns to numeric"
   ]
  },
  {
   "cell_type": "code",
   "execution_count": 17,
   "metadata": {},
   "outputs": [],
   "source": [
    "df_clean = df_clean.apply(pd.to_numeric, errors='ignore')"
   ]
  },
  {
   "cell_type": "code",
   "execution_count": 18,
   "metadata": {},
   "outputs": [
    {
     "name": "stdout",
     "output_type": "stream",
     "text": [
      "<class 'pandas.core.frame.DataFrame'>\n",
      "RangeIndex: 873387 entries, 0 to 873386\n",
      "Data columns (total 15 columns):\n",
      "Title                            820475 non-null object\n",
      "Author                           873387 non-null object\n",
      "Content                          873387 non-null object\n",
      "Ratings-Service                  798764 non-null float64\n",
      "Ratings-Cleanliness              797389 non-null float64\n",
      "Ratings-Overall                  873387 non-null float64\n",
      "Ratings-Value                    798740 non-null float64\n",
      "Ratings-Sleep Quality            433139 non-null float64\n",
      "Ratings-Rooms                    724624 non-null float64\n",
      "Ratings-Location                 684049 non-null float64\n",
      "Ratings-Check in / front desk    190600 non-null float64\n",
      "Name                             820475 non-null object\n",
      "Price                            873387 non-null object\n",
      "HotelID                          873387 non-null int64\n",
      "Ratings-Business service         136414 non-null float64\n",
      "dtypes: float64(9), int64(1), object(5)\n",
      "memory usage: 100.0+ MB\n"
     ]
    }
   ],
   "source": [
    "df_clean.info()"
   ]
  },
  {
   "cell_type": "code",
   "execution_count": 29,
   "metadata": {},
   "outputs": [
    {
     "data": {
      "text/html": [
       "<div>\n",
       "<style scoped>\n",
       "    .dataframe tbody tr th:only-of-type {\n",
       "        vertical-align: middle;\n",
       "    }\n",
       "\n",
       "    .dataframe tbody tr th {\n",
       "        vertical-align: top;\n",
       "    }\n",
       "\n",
       "    .dataframe thead th {\n",
       "        text-align: right;\n",
       "    }\n",
       "</style>\n",
       "<table border=\"1\" class=\"dataframe\">\n",
       "  <thead>\n",
       "    <tr style=\"text-align: right;\">\n",
       "      <th></th>\n",
       "      <th>Title</th>\n",
       "      <th>Author</th>\n",
       "      <th>Content</th>\n",
       "      <th>Ratings-Service</th>\n",
       "      <th>Ratings-Cleanliness</th>\n",
       "      <th>Ratings-Overall</th>\n",
       "      <th>Ratings-Value</th>\n",
       "      <th>Ratings-Sleep Quality</th>\n",
       "      <th>Ratings-Rooms</th>\n",
       "      <th>Ratings-Location</th>\n",
       "      <th>Ratings-Check in / front desk</th>\n",
       "      <th>Name</th>\n",
       "      <th>Price</th>\n",
       "      <th>HotelID</th>\n",
       "      <th>Ratings-Business service</th>\n",
       "    </tr>\n",
       "  </thead>\n",
       "  <tbody>\n",
       "    <tr>\n",
       "      <td>0</td>\n",
       "      <td>“Great place and location”</td>\n",
       "      <td>Nadine R</td>\n",
       "      <td>Usually stay near the airport, but this trip w...</td>\n",
       "      <td>5.0</td>\n",
       "      <td>5.0</td>\n",
       "      <td>5.0</td>\n",
       "      <td>5.0</td>\n",
       "      <td>5.0</td>\n",
       "      <td>5.0</td>\n",
       "      <td>5.0</td>\n",
       "      <td>NaN</td>\n",
       "      <td>Hilton Garden Inn Baltimore White Marsh</td>\n",
       "      <td>$135 - $193*</td>\n",
       "      <td>100407</td>\n",
       "      <td>NaN</td>\n",
       "    </tr>\n",
       "    <tr>\n",
       "      <td>1</td>\n",
       "      <td>“Nice stay, nice surroundings”</td>\n",
       "      <td>blt3116</td>\n",
       "      <td>Stayed at this Hilton for 2 nights. It was lik...</td>\n",
       "      <td>4.0</td>\n",
       "      <td>4.0</td>\n",
       "      <td>4.0</td>\n",
       "      <td>4.0</td>\n",
       "      <td>4.0</td>\n",
       "      <td>4.0</td>\n",
       "      <td>5.0</td>\n",
       "      <td>NaN</td>\n",
       "      <td>Hilton Garden Inn Baltimore White Marsh</td>\n",
       "      <td>$135 - $193*</td>\n",
       "      <td>100407</td>\n",
       "      <td>NaN</td>\n",
       "    </tr>\n",
       "    <tr>\n",
       "      <td>2</td>\n",
       "      <td>“Perfect for an overnight just off I-95”</td>\n",
       "      <td>ExSpec5</td>\n",
       "      <td>Stayed there one night, December 16, on the wa...</td>\n",
       "      <td>5.0</td>\n",
       "      <td>5.0</td>\n",
       "      <td>4.0</td>\n",
       "      <td>3.0</td>\n",
       "      <td>3.0</td>\n",
       "      <td>5.0</td>\n",
       "      <td>5.0</td>\n",
       "      <td>NaN</td>\n",
       "      <td>Hilton Garden Inn Baltimore White Marsh</td>\n",
       "      <td>$135 - $193*</td>\n",
       "      <td>100407</td>\n",
       "      <td>NaN</td>\n",
       "    </tr>\n",
       "    <tr>\n",
       "      <td>3</td>\n",
       "      <td>“Great Hotel”</td>\n",
       "      <td>kevinlynch3</td>\n",
       "      <td>I just stayed here last weekend and have alrea...</td>\n",
       "      <td>5.0</td>\n",
       "      <td>5.0</td>\n",
       "      <td>5.0</td>\n",
       "      <td>4.0</td>\n",
       "      <td>5.0</td>\n",
       "      <td>5.0</td>\n",
       "      <td>5.0</td>\n",
       "      <td>NaN</td>\n",
       "      <td>Hilton Garden Inn Baltimore White Marsh</td>\n",
       "      <td>$135 - $193*</td>\n",
       "      <td>100407</td>\n",
       "      <td>NaN</td>\n",
       "    </tr>\n",
       "    <tr>\n",
       "      <td>4</td>\n",
       "      <td>“good room for handicapped person”</td>\n",
       "      <td>nobumponalog</td>\n",
       "      <td>My mother who is 90 and I stayed one night on ...</td>\n",
       "      <td>5.0</td>\n",
       "      <td>5.0</td>\n",
       "      <td>5.0</td>\n",
       "      <td>4.0</td>\n",
       "      <td>5.0</td>\n",
       "      <td>5.0</td>\n",
       "      <td>5.0</td>\n",
       "      <td>NaN</td>\n",
       "      <td>Hilton Garden Inn Baltimore White Marsh</td>\n",
       "      <td>$135 - $193*</td>\n",
       "      <td>100407</td>\n",
       "      <td>NaN</td>\n",
       "    </tr>\n",
       "  </tbody>\n",
       "</table>\n",
       "</div>"
      ],
      "text/plain": [
       "                                      Title        Author  \\\n",
       "0                “Great place and location”      Nadine R   \n",
       "1            “Nice stay, nice surroundings”       blt3116   \n",
       "2  “Perfect for an overnight just off I-95”       ExSpec5   \n",
       "3                             “Great Hotel”   kevinlynch3   \n",
       "4        “good room for handicapped person”  nobumponalog   \n",
       "\n",
       "                                             Content  Ratings-Service  \\\n",
       "0  Usually stay near the airport, but this trip w...              5.0   \n",
       "1  Stayed at this Hilton for 2 nights. It was lik...              4.0   \n",
       "2  Stayed there one night, December 16, on the wa...              5.0   \n",
       "3  I just stayed here last weekend and have alrea...              5.0   \n",
       "4  My mother who is 90 and I stayed one night on ...              5.0   \n",
       "\n",
       "   Ratings-Cleanliness  Ratings-Overall  Ratings-Value  Ratings-Sleep Quality  \\\n",
       "0                  5.0              5.0            5.0                    5.0   \n",
       "1                  4.0              4.0            4.0                    4.0   \n",
       "2                  5.0              4.0            3.0                    3.0   \n",
       "3                  5.0              5.0            4.0                    5.0   \n",
       "4                  5.0              5.0            4.0                    5.0   \n",
       "\n",
       "   Ratings-Rooms  Ratings-Location  Ratings-Check in / front desk  \\\n",
       "0            5.0               5.0                            NaN   \n",
       "1            4.0               5.0                            NaN   \n",
       "2            5.0               5.0                            NaN   \n",
       "3            5.0               5.0                            NaN   \n",
       "4            5.0               5.0                            NaN   \n",
       "\n",
       "                                      Name         Price  HotelID  \\\n",
       "0  Hilton Garden Inn Baltimore White Marsh  $135 - $193*   100407   \n",
       "1  Hilton Garden Inn Baltimore White Marsh  $135 - $193*   100407   \n",
       "2  Hilton Garden Inn Baltimore White Marsh  $135 - $193*   100407   \n",
       "3  Hilton Garden Inn Baltimore White Marsh  $135 - $193*   100407   \n",
       "4  Hilton Garden Inn Baltimore White Marsh  $135 - $193*   100407   \n",
       "\n",
       "   Ratings-Business service  \n",
       "0                       NaN  \n",
       "1                       NaN  \n",
       "2                       NaN  \n",
       "3                       NaN  \n",
       "4                       NaN  "
      ]
     },
     "execution_count": 29,
     "metadata": {},
     "output_type": "execute_result"
    }
   ],
   "source": [
    "df_clean.head()"
   ]
  },
  {
   "cell_type": "code",
   "execution_count": 30,
   "metadata": {},
   "outputs": [
    {
     "data": {
      "text/html": [
       "<div>\n",
       "<style scoped>\n",
       "    .dataframe tbody tr th:only-of-type {\n",
       "        vertical-align: middle;\n",
       "    }\n",
       "\n",
       "    .dataframe tbody tr th {\n",
       "        vertical-align: top;\n",
       "    }\n",
       "\n",
       "    .dataframe thead th {\n",
       "        text-align: right;\n",
       "    }\n",
       "</style>\n",
       "<table border=\"1\" class=\"dataframe\">\n",
       "  <thead>\n",
       "    <tr style=\"text-align: right;\">\n",
       "      <th></th>\n",
       "      <th>Ratings-Service</th>\n",
       "      <th>Ratings-Cleanliness</th>\n",
       "      <th>Ratings-Overall</th>\n",
       "      <th>Ratings-Value</th>\n",
       "      <th>Ratings-Sleep Quality</th>\n",
       "      <th>Ratings-Rooms</th>\n",
       "      <th>Ratings-Location</th>\n",
       "      <th>Ratings-Check in / front desk</th>\n",
       "      <th>HotelID</th>\n",
       "      <th>Ratings-Business service</th>\n",
       "    </tr>\n",
       "  </thead>\n",
       "  <tbody>\n",
       "    <tr>\n",
       "      <td>count</td>\n",
       "      <td>798764.000000</td>\n",
       "      <td>797389.000000</td>\n",
       "      <td>873387.000000</td>\n",
       "      <td>798740.000000</td>\n",
       "      <td>433139.000000</td>\n",
       "      <td>724624.000000</td>\n",
       "      <td>684049.000000</td>\n",
       "      <td>190600.000000</td>\n",
       "      <td>8.733870e+05</td>\n",
       "      <td>136414.000000</td>\n",
       "    </tr>\n",
       "    <tr>\n",
       "      <td>mean</td>\n",
       "      <td>3.952972</td>\n",
       "      <td>4.138280</td>\n",
       "      <td>3.939649</td>\n",
       "      <td>3.794202</td>\n",
       "      <td>4.108900</td>\n",
       "      <td>3.792058</td>\n",
       "      <td>4.163670</td>\n",
       "      <td>3.197639</td>\n",
       "      <td>1.218297e+06</td>\n",
       "      <td>2.342172</td>\n",
       "    </tr>\n",
       "    <tr>\n",
       "      <td>std</td>\n",
       "      <td>1.375918</td>\n",
       "      <td>1.287416</td>\n",
       "      <td>1.206752</td>\n",
       "      <td>1.401455</td>\n",
       "      <td>1.148362</td>\n",
       "      <td>1.356370</td>\n",
       "      <td>1.399444</td>\n",
       "      <td>2.102603</td>\n",
       "      <td>1.092890e+06</td>\n",
       "      <td>2.303823</td>\n",
       "    </tr>\n",
       "    <tr>\n",
       "      <td>min</td>\n",
       "      <td>-1.000000</td>\n",
       "      <td>-1.000000</td>\n",
       "      <td>0.000000</td>\n",
       "      <td>-1.000000</td>\n",
       "      <td>1.000000</td>\n",
       "      <td>-1.000000</td>\n",
       "      <td>-1.000000</td>\n",
       "      <td>-1.000000</td>\n",
       "      <td>1.004070e+05</td>\n",
       "      <td>-1.000000</td>\n",
       "    </tr>\n",
       "    <tr>\n",
       "      <td>25%</td>\n",
       "      <td>3.000000</td>\n",
       "      <td>4.000000</td>\n",
       "      <td>3.000000</td>\n",
       "      <td>3.000000</td>\n",
       "      <td>4.000000</td>\n",
       "      <td>3.000000</td>\n",
       "      <td>4.000000</td>\n",
       "      <td>2.000000</td>\n",
       "      <td>2.025810e+05</td>\n",
       "      <td>-1.000000</td>\n",
       "    </tr>\n",
       "    <tr>\n",
       "      <td>50%</td>\n",
       "      <td>4.000000</td>\n",
       "      <td>5.000000</td>\n",
       "      <td>4.000000</td>\n",
       "      <td>4.000000</td>\n",
       "      <td>5.000000</td>\n",
       "      <td>4.000000</td>\n",
       "      <td>5.000000</td>\n",
       "      <td>4.000000</td>\n",
       "      <td>2.498310e+05</td>\n",
       "      <td>3.000000</td>\n",
       "    </tr>\n",
       "    <tr>\n",
       "      <td>75%</td>\n",
       "      <td>5.000000</td>\n",
       "      <td>5.000000</td>\n",
       "      <td>5.000000</td>\n",
       "      <td>5.000000</td>\n",
       "      <td>5.000000</td>\n",
       "      <td>5.000000</td>\n",
       "      <td>5.000000</td>\n",
       "      <td>5.000000</td>\n",
       "      <td>2.514695e+06</td>\n",
       "      <td>4.000000</td>\n",
       "    </tr>\n",
       "    <tr>\n",
       "      <td>max</td>\n",
       "      <td>5.000000</td>\n",
       "      <td>5.000000</td>\n",
       "      <td>5.000000</td>\n",
       "      <td>5.000000</td>\n",
       "      <td>5.000000</td>\n",
       "      <td>5.000000</td>\n",
       "      <td>5.000000</td>\n",
       "      <td>5.000000</td>\n",
       "      <td>2.515692e+06</td>\n",
       "      <td>5.000000</td>\n",
       "    </tr>\n",
       "  </tbody>\n",
       "</table>\n",
       "</div>"
      ],
      "text/plain": [
       "       Ratings-Service  Ratings-Cleanliness  Ratings-Overall  Ratings-Value  \\\n",
       "count    798764.000000        797389.000000    873387.000000  798740.000000   \n",
       "mean          3.952972             4.138280         3.939649       3.794202   \n",
       "std           1.375918             1.287416         1.206752       1.401455   \n",
       "min          -1.000000            -1.000000         0.000000      -1.000000   \n",
       "25%           3.000000             4.000000         3.000000       3.000000   \n",
       "50%           4.000000             5.000000         4.000000       4.000000   \n",
       "75%           5.000000             5.000000         5.000000       5.000000   \n",
       "max           5.000000             5.000000         5.000000       5.000000   \n",
       "\n",
       "       Ratings-Sleep Quality  Ratings-Rooms  Ratings-Location  \\\n",
       "count          433139.000000  724624.000000     684049.000000   \n",
       "mean                4.108900       3.792058          4.163670   \n",
       "std                 1.148362       1.356370          1.399444   \n",
       "min                 1.000000      -1.000000         -1.000000   \n",
       "25%                 4.000000       3.000000          4.000000   \n",
       "50%                 5.000000       4.000000          5.000000   \n",
       "75%                 5.000000       5.000000          5.000000   \n",
       "max                 5.000000       5.000000          5.000000   \n",
       "\n",
       "       Ratings-Check in / front desk       HotelID  Ratings-Business service  \n",
       "count                  190600.000000  8.733870e+05             136414.000000  \n",
       "mean                        3.197639  1.218297e+06                  2.342172  \n",
       "std                         2.102603  1.092890e+06                  2.303823  \n",
       "min                        -1.000000  1.004070e+05                 -1.000000  \n",
       "25%                         2.000000  2.025810e+05                 -1.000000  \n",
       "50%                         4.000000  2.498310e+05                  3.000000  \n",
       "75%                         5.000000  2.514695e+06                  4.000000  \n",
       "max                         5.000000  2.515692e+06                  5.000000  "
      ]
     },
     "execution_count": 30,
     "metadata": {},
     "output_type": "execute_result"
    }
   ],
   "source": [
    "df_clean.describe()"
   ]
  },
  {
   "cell_type": "markdown",
   "metadata": {},
   "source": [
    "Averate overall ratings is 3.94, which means most of the hotels have good rating i.e. 4, 5"
   ]
  },
  {
   "cell_type": "markdown",
   "metadata": {},
   "source": [
    "#### most and highest rated hotel"
   ]
  },
  {
   "cell_type": "code",
   "execution_count": 50,
   "metadata": {},
   "outputs": [],
   "source": [
    "df_most_rated = df_clean.groupby(by='HotelID', as_index=False)['Ratings-Overall'].agg({'Ratings-Overall': 'mean', 'Price': 'count'}).rename(columns={'Price': 'Count'})"
   ]
  },
  {
   "cell_type": "code",
   "execution_count": 67,
   "metadata": {},
   "outputs": [
    {
     "data": {
      "text/html": [
       "<div>\n",
       "<style scoped>\n",
       "    .dataframe tbody tr th:only-of-type {\n",
       "        vertical-align: middle;\n",
       "    }\n",
       "\n",
       "    .dataframe tbody tr th {\n",
       "        vertical-align: top;\n",
       "    }\n",
       "\n",
       "    .dataframe thead th {\n",
       "        text-align: right;\n",
       "    }\n",
       "</style>\n",
       "<table border=\"1\" class=\"dataframe\">\n",
       "  <thead>\n",
       "    <tr style=\"text-align: right;\">\n",
       "      <th></th>\n",
       "      <th>HotelID</th>\n",
       "      <th>Ratings-Overall</th>\n",
       "      <th>Count</th>\n",
       "    </tr>\n",
       "  </thead>\n",
       "  <tbody>\n",
       "    <tr>\n",
       "      <td>6288</td>\n",
       "      <td>2515499</td>\n",
       "      <td>4.226297</td>\n",
       "      <td>4936</td>\n",
       "    </tr>\n",
       "    <tr>\n",
       "      <td>6232</td>\n",
       "      <td>2515443</td>\n",
       "      <td>4.148743</td>\n",
       "      <td>3738</td>\n",
       "    </tr>\n",
       "    <tr>\n",
       "      <td>6465</td>\n",
       "      <td>2515676</td>\n",
       "      <td>3.675000</td>\n",
       "      <td>3120</td>\n",
       "    </tr>\n",
       "    <tr>\n",
       "      <td>6422</td>\n",
       "      <td>2515633</td>\n",
       "      <td>3.989769</td>\n",
       "      <td>3030</td>\n",
       "    </tr>\n",
       "    <tr>\n",
       "      <td>6329</td>\n",
       "      <td>2515540</td>\n",
       "      <td>4.240324</td>\n",
       "      <td>2842</td>\n",
       "    </tr>\n",
       "  </tbody>\n",
       "</table>\n",
       "</div>"
      ],
      "text/plain": [
       "      HotelID  Ratings-Overall  Count\n",
       "6288  2515499         4.226297   4936\n",
       "6232  2515443         4.148743   3738\n",
       "6465  2515676         3.675000   3120\n",
       "6422  2515633         3.989769   3030\n",
       "6329  2515540         4.240324   2842"
      ]
     },
     "execution_count": 67,
     "metadata": {},
     "output_type": "execute_result"
    }
   ],
   "source": [
    "df_most_rated.sort_values(['Count', 'Ratings-Overall'], ascending=False).head()"
   ]
  },
  {
   "cell_type": "code",
   "execution_count": 134,
   "metadata": {},
   "outputs": [
    {
     "data": {
      "text/html": [
       "<div>\n",
       "<style scoped>\n",
       "    .dataframe tbody tr th:only-of-type {\n",
       "        vertical-align: middle;\n",
       "    }\n",
       "\n",
       "    .dataframe tbody tr th {\n",
       "        vertical-align: top;\n",
       "    }\n",
       "\n",
       "    .dataframe thead th {\n",
       "        text-align: right;\n",
       "    }\n",
       "</style>\n",
       "<table border=\"1\" class=\"dataframe\">\n",
       "  <thead>\n",
       "    <tr style=\"text-align: right;\">\n",
       "      <th></th>\n",
       "      <th>Title</th>\n",
       "      <th>Author</th>\n",
       "      <th>Content</th>\n",
       "      <th>Ratings-Service</th>\n",
       "      <th>Ratings-Cleanliness</th>\n",
       "      <th>Ratings-Overall</th>\n",
       "      <th>Ratings-Value</th>\n",
       "      <th>Ratings-Sleep Quality</th>\n",
       "      <th>Ratings-Rooms</th>\n",
       "      <th>Ratings-Location</th>\n",
       "      <th>Ratings-Check in / front desk</th>\n",
       "      <th>Name</th>\n",
       "      <th>Price</th>\n",
       "      <th>HotelID</th>\n",
       "      <th>Ratings-Business service</th>\n",
       "      <th>Clean_Content</th>\n",
       "      <th>Word_Count</th>\n",
       "    </tr>\n",
       "  </thead>\n",
       "  <tbody>\n",
       "    <tr>\n",
       "      <td>800114</td>\n",
       "      <td>“Poor Customer Service”</td>\n",
       "      <td>TdHCanada</td>\n",
       "      <td>First off...beautiful hotel, gorgeous fountain...</td>\n",
       "      <td>2.0</td>\n",
       "      <td>5.0</td>\n",
       "      <td>3.0</td>\n",
       "      <td>3.0</td>\n",
       "      <td>5.0</td>\n",
       "      <td>5.0</td>\n",
       "      <td>5.0</td>\n",
       "      <td>NaN</td>\n",
       "      <td>Bellagio Las Vegas</td>\n",
       "      <td>$178 - $365*</td>\n",
       "      <td>2515499</td>\n",
       "      <td>NaN</td>\n",
       "      <td>first off beautiful hotel gorgeous fountain un...</td>\n",
       "      <td>154</td>\n",
       "    </tr>\n",
       "  </tbody>\n",
       "</table>\n",
       "</div>"
      ],
      "text/plain": [
       "                          Title     Author  \\\n",
       "800114  “Poor Customer Service”  TdHCanada   \n",
       "\n",
       "                                                  Content  Ratings-Service  \\\n",
       "800114  First off...beautiful hotel, gorgeous fountain...              2.0   \n",
       "\n",
       "        Ratings-Cleanliness  Ratings-Overall  Ratings-Value  \\\n",
       "800114                  5.0              3.0            3.0   \n",
       "\n",
       "        Ratings-Sleep Quality  Ratings-Rooms  Ratings-Location  \\\n",
       "800114                    5.0            5.0               5.0   \n",
       "\n",
       "        Ratings-Check in / front desk                Name         Price  \\\n",
       "800114                            NaN  Bellagio Las Vegas  $178 - $365*   \n",
       "\n",
       "        HotelID  Ratings-Business service  \\\n",
       "800114  2515499                       NaN   \n",
       "\n",
       "                                            Clean_Content  Word_Count  \n",
       "800114  first off beautiful hotel gorgeous fountain un...         154  "
      ]
     },
     "execution_count": 134,
     "metadata": {},
     "output_type": "execute_result"
    }
   ],
   "source": [
    "df_clean[df_clean['HotelID'] == 2515499].head(1)"
   ]
  },
  {
   "cell_type": "code",
   "execution_count": 68,
   "metadata": {},
   "outputs": [
    {
     "data": {
      "text/html": [
       "<div>\n",
       "<style scoped>\n",
       "    .dataframe tbody tr th:only-of-type {\n",
       "        vertical-align: middle;\n",
       "    }\n",
       "\n",
       "    .dataframe tbody tr th {\n",
       "        vertical-align: top;\n",
       "    }\n",
       "\n",
       "    .dataframe thead th {\n",
       "        text-align: right;\n",
       "    }\n",
       "</style>\n",
       "<table border=\"1\" class=\"dataframe\">\n",
       "  <thead>\n",
       "    <tr style=\"text-align: right;\">\n",
       "      <th></th>\n",
       "      <th>HotelID</th>\n",
       "      <th>Ratings-Overall</th>\n",
       "      <th>Count</th>\n",
       "    </tr>\n",
       "  </thead>\n",
       "  <tbody>\n",
       "    <tr>\n",
       "      <td>3679</td>\n",
       "      <td>1101456</td>\n",
       "      <td>5.0</td>\n",
       "      <td>12</td>\n",
       "    </tr>\n",
       "    <tr>\n",
       "      <td>5875</td>\n",
       "      <td>2515086</td>\n",
       "      <td>5.0</td>\n",
       "      <td>11</td>\n",
       "    </tr>\n",
       "    <tr>\n",
       "      <td>6377</td>\n",
       "      <td>2515588</td>\n",
       "      <td>5.0</td>\n",
       "      <td>11</td>\n",
       "    </tr>\n",
       "    <tr>\n",
       "      <td>3578</td>\n",
       "      <td>1082544</td>\n",
       "      <td>5.0</td>\n",
       "      <td>10</td>\n",
       "    </tr>\n",
       "    <tr>\n",
       "      <td>4788</td>\n",
       "      <td>1978931</td>\n",
       "      <td>5.0</td>\n",
       "      <td>10</td>\n",
       "    </tr>\n",
       "  </tbody>\n",
       "</table>\n",
       "</div>"
      ],
      "text/plain": [
       "      HotelID  Ratings-Overall  Count\n",
       "3679  1101456              5.0     12\n",
       "5875  2515086              5.0     11\n",
       "6377  2515588              5.0     11\n",
       "3578  1082544              5.0     10\n",
       "4788  1978931              5.0     10"
      ]
     },
     "execution_count": 68,
     "metadata": {},
     "output_type": "execute_result"
    }
   ],
   "source": [
    "df_most_rated.sort_values(['Ratings-Overall', 'Count'], ascending=False).head()"
   ]
  },
  {
   "cell_type": "code",
   "execution_count": 133,
   "metadata": {},
   "outputs": [
    {
     "data": {
      "text/html": [
       "<div>\n",
       "<style scoped>\n",
       "    .dataframe tbody tr th:only-of-type {\n",
       "        vertical-align: middle;\n",
       "    }\n",
       "\n",
       "    .dataframe tbody tr th {\n",
       "        vertical-align: top;\n",
       "    }\n",
       "\n",
       "    .dataframe thead th {\n",
       "        text-align: right;\n",
       "    }\n",
       "</style>\n",
       "<table border=\"1\" class=\"dataframe\">\n",
       "  <thead>\n",
       "    <tr style=\"text-align: right;\">\n",
       "      <th></th>\n",
       "      <th>Title</th>\n",
       "      <th>Author</th>\n",
       "      <th>Content</th>\n",
       "      <th>Ratings-Service</th>\n",
       "      <th>Ratings-Cleanliness</th>\n",
       "      <th>Ratings-Overall</th>\n",
       "      <th>Ratings-Value</th>\n",
       "      <th>Ratings-Sleep Quality</th>\n",
       "      <th>Ratings-Rooms</th>\n",
       "      <th>Ratings-Location</th>\n",
       "      <th>Ratings-Check in / front desk</th>\n",
       "      <th>Name</th>\n",
       "      <th>Price</th>\n",
       "      <th>HotelID</th>\n",
       "      <th>Ratings-Business service</th>\n",
       "      <th>Clean_Content</th>\n",
       "      <th>Word_Count</th>\n",
       "    </tr>\n",
       "  </thead>\n",
       "  <tbody>\n",
       "    <tr>\n",
       "      <td>33717</td>\n",
       "      <td>NaN</td>\n",
       "      <td>JTNL</td>\n",
       "      <td>Best place and wonderful people       inside t...</td>\n",
       "      <td>5.0</td>\n",
       "      <td>5.0</td>\n",
       "      <td>5.0</td>\n",
       "      <td>5.0</td>\n",
       "      <td>NaN</td>\n",
       "      <td>4.0</td>\n",
       "      <td>5.0</td>\n",
       "      <td>5.0</td>\n",
       "      <td>NaN</td>\n",
       "      <td>Unkonwn</td>\n",
       "      <td>1101456</td>\n",
       "      <td>4.0</td>\n",
       "      <td>best place and wonderful people inside the cot...</td>\n",
       "      <td>8</td>\n",
       "    </tr>\n",
       "  </tbody>\n",
       "</table>\n",
       "</div>"
      ],
      "text/plain": [
       "      Title Author                                            Content  \\\n",
       "33717   NaN   JTNL  Best place and wonderful people       inside t...   \n",
       "\n",
       "       Ratings-Service  Ratings-Cleanliness  Ratings-Overall  Ratings-Value  \\\n",
       "33717              5.0                  5.0              5.0            5.0   \n",
       "\n",
       "       Ratings-Sleep Quality  Ratings-Rooms  Ratings-Location  \\\n",
       "33717                    NaN            4.0               5.0   \n",
       "\n",
       "       Ratings-Check in / front desk Name    Price  HotelID  \\\n",
       "33717                            5.0  NaN  Unkonwn  1101456   \n",
       "\n",
       "       Ratings-Business service  \\\n",
       "33717                       4.0   \n",
       "\n",
       "                                           Clean_Content  Word_Count  \n",
       "33717  best place and wonderful people inside the cot...           8  "
      ]
     },
     "execution_count": 133,
     "metadata": {},
     "output_type": "execute_result"
    }
   ],
   "source": [
    "df_clean[df_clean['HotelID'] == 1101456].head(1)"
   ]
  },
  {
   "cell_type": "markdown",
   "metadata": {},
   "source": [
    "1. Bellagio Las Vegas (HotelID: 2515499) is the most rated hotel: 4936, with average Rating: 4.2\n",
    "2. Hotel with ID: 1101456 has best rating (all 5 stars) with most reviews: 12. It has no name in the data."
   ]
  },
  {
   "cell_type": "markdown",
   "metadata": {},
   "source": [
    "#### most reviews on a day"
   ]
  },
  {
   "cell_type": "code",
   "execution_count": 69,
   "metadata": {},
   "outputs": [
    {
     "data": {
      "text/plain": [
       "September 12, 2011    2897\n",
       "July 28, 2011         2572\n",
       "June 13, 2011         2527\n",
       "October 31, 2011      2068\n",
       "July 29, 2011         1967\n",
       "February 20, 2012     1840\n",
       "November 28, 2011     1802\n",
       "July 27, 2011         1571\n",
       "October 8, 2009       1563\n",
       "January 5, 2012       1553\n",
       "Name: Date, dtype: int64"
      ]
     },
     "execution_count": 69,
     "metadata": {},
     "output_type": "execute_result"
    }
   ],
   "source": [
    "df['Date'].value_counts().head(10)"
   ]
  },
  {
   "cell_type": "markdown",
   "metadata": {},
   "source": [
    "1. September 12, 2011 has most reviews: 2897\n",
    "2. Looks like year 2011 has most reviews. (Maybe people travelled more in 2011 or tripAdvisor did something to get more reviews like marketing/offers)."
   ]
  },
  {
   "cell_type": "markdown",
   "metadata": {},
   "source": [
    "#### grouping hotels on the basis of Overall Ratings"
   ]
  },
  {
   "cell_type": "code",
   "execution_count": 19,
   "metadata": {},
   "outputs": [],
   "source": [
    "df_hotelsgroup = df_clean.groupby(by='HotelID', as_index=False)['Ratings-Overall'].mean()"
   ]
  },
  {
   "cell_type": "code",
   "execution_count": 20,
   "metadata": {},
   "outputs": [
    {
     "data": {
      "text/html": [
       "<div>\n",
       "<style scoped>\n",
       "    .dataframe tbody tr th:only-of-type {\n",
       "        vertical-align: middle;\n",
       "    }\n",
       "\n",
       "    .dataframe tbody tr th {\n",
       "        vertical-align: top;\n",
       "    }\n",
       "\n",
       "    .dataframe thead th {\n",
       "        text-align: right;\n",
       "    }\n",
       "</style>\n",
       "<table border=\"1\" class=\"dataframe\">\n",
       "  <thead>\n",
       "    <tr style=\"text-align: right;\">\n",
       "      <th></th>\n",
       "      <th>HotelID</th>\n",
       "      <th>Ratings-Overall</th>\n",
       "    </tr>\n",
       "  </thead>\n",
       "  <tbody>\n",
       "    <tr>\n",
       "      <td>0</td>\n",
       "      <td>100407</td>\n",
       "      <td>4.444444</td>\n",
       "    </tr>\n",
       "    <tr>\n",
       "      <td>1</td>\n",
       "      <td>100504</td>\n",
       "      <td>4.481043</td>\n",
       "    </tr>\n",
       "    <tr>\n",
       "      <td>2</td>\n",
       "      <td>100505</td>\n",
       "      <td>3.567114</td>\n",
       "    </tr>\n",
       "    <tr>\n",
       "      <td>3</td>\n",
       "      <td>100506</td>\n",
       "      <td>1.666667</td>\n",
       "    </tr>\n",
       "    <tr>\n",
       "      <td>4</td>\n",
       "      <td>100507</td>\n",
       "      <td>4.715370</td>\n",
       "    </tr>\n",
       "    <tr>\n",
       "      <td>...</td>\n",
       "      <td>...</td>\n",
       "      <td>...</td>\n",
       "    </tr>\n",
       "    <tr>\n",
       "      <td>6477</td>\n",
       "      <td>2515688</td>\n",
       "      <td>3.543103</td>\n",
       "    </tr>\n",
       "    <tr>\n",
       "      <td>6478</td>\n",
       "      <td>2515689</td>\n",
       "      <td>3.899083</td>\n",
       "    </tr>\n",
       "    <tr>\n",
       "      <td>6479</td>\n",
       "      <td>2515690</td>\n",
       "      <td>3.696429</td>\n",
       "    </tr>\n",
       "    <tr>\n",
       "      <td>6480</td>\n",
       "      <td>2515691</td>\n",
       "      <td>4.058824</td>\n",
       "    </tr>\n",
       "    <tr>\n",
       "      <td>6481</td>\n",
       "      <td>2515692</td>\n",
       "      <td>3.662791</td>\n",
       "    </tr>\n",
       "  </tbody>\n",
       "</table>\n",
       "<p>6482 rows × 2 columns</p>\n",
       "</div>"
      ],
      "text/plain": [
       "      HotelID  Ratings-Overall\n",
       "0      100407         4.444444\n",
       "1      100504         4.481043\n",
       "2      100505         3.567114\n",
       "3      100506         1.666667\n",
       "4      100507         4.715370\n",
       "...       ...              ...\n",
       "6477  2515688         3.543103\n",
       "6478  2515689         3.899083\n",
       "6479  2515690         3.696429\n",
       "6480  2515691         4.058824\n",
       "6481  2515692         3.662791\n",
       "\n",
       "[6482 rows x 2 columns]"
      ]
     },
     "execution_count": 20,
     "metadata": {},
     "output_type": "execute_result"
    }
   ],
   "source": [
    "df_hotelsgroup"
   ]
  },
  {
   "cell_type": "markdown",
   "metadata": {},
   "source": [
    "#### rounding off average rating of hotels to multiple of 0.5 and 1"
   ]
  },
  {
   "cell_type": "code",
   "execution_count": 21,
   "metadata": {},
   "outputs": [],
   "source": [
    "def myround(x, prec=1, base=.5):\n",
    "    return round(base * round(float(x)/base),prec)"
   ]
  },
  {
   "cell_type": "code",
   "execution_count": 22,
   "metadata": {},
   "outputs": [],
   "source": [
    "df_hotelsgroup['Ratings-RoundedOffhalf'] = df_hotelsgroup['Ratings-Overall'].apply(lambda x: myround(x))"
   ]
  },
  {
   "cell_type": "code",
   "execution_count": 23,
   "metadata": {},
   "outputs": [],
   "source": [
    "df_hotelsgroup['Ratings-RoundedOffone'] = df_hotelsgroup['Ratings-Overall'].apply(lambda x: round(x))"
   ]
  },
  {
   "cell_type": "code",
   "execution_count": 24,
   "metadata": {},
   "outputs": [
    {
     "data": {
      "text/html": [
       "<div>\n",
       "<style scoped>\n",
       "    .dataframe tbody tr th:only-of-type {\n",
       "        vertical-align: middle;\n",
       "    }\n",
       "\n",
       "    .dataframe tbody tr th {\n",
       "        vertical-align: top;\n",
       "    }\n",
       "\n",
       "    .dataframe thead th {\n",
       "        text-align: right;\n",
       "    }\n",
       "</style>\n",
       "<table border=\"1\" class=\"dataframe\">\n",
       "  <thead>\n",
       "    <tr style=\"text-align: right;\">\n",
       "      <th></th>\n",
       "      <th>HotelID</th>\n",
       "      <th>Ratings-Overall</th>\n",
       "      <th>Ratings-RoundedOffhalf</th>\n",
       "      <th>Ratings-RoundedOffone</th>\n",
       "    </tr>\n",
       "  </thead>\n",
       "  <tbody>\n",
       "    <tr>\n",
       "      <td>0</td>\n",
       "      <td>100407</td>\n",
       "      <td>4.444444</td>\n",
       "      <td>4.5</td>\n",
       "      <td>4</td>\n",
       "    </tr>\n",
       "    <tr>\n",
       "      <td>1</td>\n",
       "      <td>100504</td>\n",
       "      <td>4.481043</td>\n",
       "      <td>4.5</td>\n",
       "      <td>4</td>\n",
       "    </tr>\n",
       "    <tr>\n",
       "      <td>2</td>\n",
       "      <td>100505</td>\n",
       "      <td>3.567114</td>\n",
       "      <td>3.5</td>\n",
       "      <td>4</td>\n",
       "    </tr>\n",
       "    <tr>\n",
       "      <td>3</td>\n",
       "      <td>100506</td>\n",
       "      <td>1.666667</td>\n",
       "      <td>1.5</td>\n",
       "      <td>2</td>\n",
       "    </tr>\n",
       "    <tr>\n",
       "      <td>4</td>\n",
       "      <td>100507</td>\n",
       "      <td>4.715370</td>\n",
       "      <td>4.5</td>\n",
       "      <td>5</td>\n",
       "    </tr>\n",
       "    <tr>\n",
       "      <td>...</td>\n",
       "      <td>...</td>\n",
       "      <td>...</td>\n",
       "      <td>...</td>\n",
       "      <td>...</td>\n",
       "    </tr>\n",
       "    <tr>\n",
       "      <td>6477</td>\n",
       "      <td>2515688</td>\n",
       "      <td>3.543103</td>\n",
       "      <td>3.5</td>\n",
       "      <td>4</td>\n",
       "    </tr>\n",
       "    <tr>\n",
       "      <td>6478</td>\n",
       "      <td>2515689</td>\n",
       "      <td>3.899083</td>\n",
       "      <td>4.0</td>\n",
       "      <td>4</td>\n",
       "    </tr>\n",
       "    <tr>\n",
       "      <td>6479</td>\n",
       "      <td>2515690</td>\n",
       "      <td>3.696429</td>\n",
       "      <td>3.5</td>\n",
       "      <td>4</td>\n",
       "    </tr>\n",
       "    <tr>\n",
       "      <td>6480</td>\n",
       "      <td>2515691</td>\n",
       "      <td>4.058824</td>\n",
       "      <td>4.0</td>\n",
       "      <td>4</td>\n",
       "    </tr>\n",
       "    <tr>\n",
       "      <td>6481</td>\n",
       "      <td>2515692</td>\n",
       "      <td>3.662791</td>\n",
       "      <td>3.5</td>\n",
       "      <td>4</td>\n",
       "    </tr>\n",
       "  </tbody>\n",
       "</table>\n",
       "<p>6482 rows × 4 columns</p>\n",
       "</div>"
      ],
      "text/plain": [
       "      HotelID  Ratings-Overall  Ratings-RoundedOffhalf  Ratings-RoundedOffone\n",
       "0      100407         4.444444                     4.5                      4\n",
       "1      100504         4.481043                     4.5                      4\n",
       "2      100505         3.567114                     3.5                      4\n",
       "3      100506         1.666667                     1.5                      2\n",
       "4      100507         4.715370                     4.5                      5\n",
       "...       ...              ...                     ...                    ...\n",
       "6477  2515688         3.543103                     3.5                      4\n",
       "6478  2515689         3.899083                     4.0                      4\n",
       "6479  2515690         3.696429                     3.5                      4\n",
       "6480  2515691         4.058824                     4.0                      4\n",
       "6481  2515692         3.662791                     3.5                      4\n",
       "\n",
       "[6482 rows x 4 columns]"
      ]
     },
     "execution_count": 24,
     "metadata": {},
     "output_type": "execute_result"
    }
   ],
   "source": [
    "df_hotelsgroup"
   ]
  },
  {
   "cell_type": "code",
   "execution_count": 37,
   "metadata": {},
   "outputs": [
    {
     "data": {
      "image/png": "[encoded data removed]",
      "text/plain": [
       "<Figure size 921.6x633.6 with 1 Axes>"
      ]
     },
     "metadata": {},
     "output_type": "display_data"
    }
   ],
   "source": [
    "sns.countplot(x='Ratings-RoundedOffhalf', data=df_hotelsgroup).set_title(\"Count of hotels by Half-Ratings\");"
   ]
  },
  {
   "cell_type": "markdown",
   "metadata": {},
   "source": [
    "Most of the hotels are rated between 3.5 to 4.5 average"
   ]
  },
  {
   "cell_type": "code",
   "execution_count": 38,
   "metadata": {},
   "outputs": [
    {
     "data": {
      "image/png": "[encoded data removed]",
      "text/plain": [
       "<Figure size 921.6x633.6 with 1 Axes>"
      ]
     },
     "metadata": {},
     "output_type": "display_data"
    }
   ],
   "source": [
    "sns.countplot(x='Ratings-RoundedOffone', data=df_hotelsgroup).set_title(\"Count of hotels by Ratings\");"
   ]
  },
  {
   "cell_type": "markdown",
   "metadata": {},
   "source": [
    "#### ratings distribution"
   ]
  },
  {
   "cell_type": "code",
   "execution_count": 39,
   "metadata": {},
   "outputs": [
    {
     "data": {
      "image/png": "[encoded data removed]",
      "text/plain": [
       "<Figure size 921.6x633.6 with 1 Axes>"
      ]
     },
     "metadata": {},
     "output_type": "display_data"
    }
   ],
   "source": [
    "sns.distplot(df_clean['Ratings-Overall']).set_title(\"Ratings-Overall Distribution\");"
   ]
  },
  {
   "cell_type": "code",
   "execution_count": 40,
   "metadata": {},
   "outputs": [
    {
     "data": {
      "image/png": "[encoded data removed]",
      "text/plain": [
       "<Figure size 921.6x633.6 with 1 Axes>"
      ]
     },
     "metadata": {},
     "output_type": "display_data"
    }
   ],
   "source": [
    "sns.distplot(df_clean['Ratings-Value'].dropna()).set_title(\"Ratings-Value Distribution\");"
   ]
  },
  {
   "cell_type": "code",
   "execution_count": 41,
   "metadata": {},
   "outputs": [
    {
     "data": {
      "image/png": "[encoded data removed]",
      "text/plain": [
       "<Figure size 921.6x633.6 with 1 Axes>"
      ]
     },
     "metadata": {},
     "output_type": "display_data"
    }
   ],
   "source": [
    "sns.distplot(df_clean['Ratings-Sleep Quality'].dropna()).set_title(\"Ratings-Sleep Quality Distribution\");"
   ]
  },
  {
   "cell_type": "code",
   "execution_count": 42,
   "metadata": {},
   "outputs": [
    {
     "data": {
      "image/png": "[encoded data removed]",
      "text/plain": [
       "<Figure size 921.6x633.6 with 1 Axes>"
      ]
     },
     "metadata": {},
     "output_type": "display_data"
    }
   ],
   "source": [
    "sns.distplot(df_clean['Ratings-Service'].dropna()).set_title(\"Ratings-Service Distribution\");"
   ]
  },
  {
   "cell_type": "code",
   "execution_count": 43,
   "metadata": {},
   "outputs": [
    {
     "data": {
      "image/png": "[encoded data removed]",
      "text/plain": [
       "<Figure size 921.6x633.6 with 1 Axes>"
      ]
     },
     "metadata": {},
     "output_type": "display_data"
    }
   ],
   "source": [
    "sns.distplot(df_clean['Ratings-Rooms'].dropna()).set_title(\"Ratings-Rooms Distribution\");"
   ]
  },
  {
   "cell_type": "code",
   "execution_count": 44,
   "metadata": {},
   "outputs": [
    {
     "data": {
      "image/png": "[encoded data removed]",
      "text/plain": [
       "<Figure size 921.6x633.6 with 1 Axes>"
      ]
     },
     "metadata": {},
     "output_type": "display_data"
    }
   ],
   "source": [
    "sns.distplot(df_clean['Ratings-Location'].dropna()).set_title(\"Ratings-Location Distribution\");"
   ]
  },
  {
   "cell_type": "code",
   "execution_count": 45,
   "metadata": {},
   "outputs": [
    {
     "data": {
      "image/png": "[encoded data removed]",
      "text/plain": [
       "<Figure size 921.6x633.6 with 1 Axes>"
      ]
     },
     "metadata": {},
     "output_type": "display_data"
    }
   ],
   "source": [
    "sns.distplot(df_clean['Ratings-Cleanliness'].dropna()).set_title(\"Ratings-Cleanliness Distribution\");"
   ]
  },
  {
   "cell_type": "code",
   "execution_count": 46,
   "metadata": {},
   "outputs": [
    {
     "data": {
      "image/png": "[encoded data removed]",
      "text/plain": [
       "<Figure size 921.6x633.6 with 1 Axes>"
      ]
     },
     "metadata": {},
     "output_type": "display_data"
    }
   ],
   "source": [
    "sns.distplot(df_clean['Ratings-Check in / front desk'].dropna()).set_title(\"Ratings-frontdesk Distribution\");"
   ]
  },
  {
   "cell_type": "code",
   "execution_count": 47,
   "metadata": {},
   "outputs": [
    {
     "data": {
      "image/png": "[encoded data removed]",
      "text/plain": [
       "<Figure size 921.6x633.6 with 1 Axes>"
      ]
     },
     "metadata": {},
     "output_type": "display_data"
    }
   ],
   "source": [
    "sns.distplot(df_clean['Ratings-Business service'].dropna()).set_title(\"Ratings-Business Service Distribution\");"
   ]
  },
  {
   "cell_type": "markdown",
   "metadata": {},
   "source": [
    "Except Business Service (and front desk), every Rating follow same distribution as Overall"
   ]
  },
  {
   "cell_type": "code",
   "execution_count": 41,
   "metadata": {},
   "outputs": [
    {
     "data": {
      "text/html": [
       "<div>\n",
       "<style scoped>\n",
       "    .dataframe tbody tr th:only-of-type {\n",
       "        vertical-align: middle;\n",
       "    }\n",
       "\n",
       "    .dataframe tbody tr th {\n",
       "        vertical-align: top;\n",
       "    }\n",
       "\n",
       "    .dataframe thead th {\n",
       "        text-align: right;\n",
       "    }\n",
       "</style>\n",
       "<table border=\"1\" class=\"dataframe\">\n",
       "  <thead>\n",
       "    <tr style=\"text-align: right;\">\n",
       "      <th></th>\n",
       "      <th>Title</th>\n",
       "      <th>Author</th>\n",
       "      <th>Content</th>\n",
       "      <th>Ratings-Service</th>\n",
       "      <th>Ratings-Cleanliness</th>\n",
       "      <th>Ratings-Overall</th>\n",
       "      <th>Ratings-Value</th>\n",
       "      <th>Ratings-Sleep Quality</th>\n",
       "      <th>Ratings-Rooms</th>\n",
       "      <th>Ratings-Location</th>\n",
       "      <th>Ratings-Check in / front desk</th>\n",
       "      <th>Name</th>\n",
       "      <th>Price</th>\n",
       "      <th>HotelID</th>\n",
       "      <th>Ratings-Business service</th>\n",
       "    </tr>\n",
       "  </thead>\n",
       "  <tbody>\n",
       "    <tr>\n",
       "      <td>1480</td>\n",
       "      <td>NaN</td>\n",
       "      <td>kangarooish</td>\n",
       "      <td>Value + Lake Union views This somewhat aged ho...</td>\n",
       "      <td>4.0</td>\n",
       "      <td>3.0</td>\n",
       "      <td>3.0</td>\n",
       "      <td>4.0</td>\n",
       "      <td>NaN</td>\n",
       "      <td>3.0</td>\n",
       "      <td>4.0</td>\n",
       "      <td>3.0</td>\n",
       "      <td>NaN</td>\n",
       "      <td>$85</td>\n",
       "      <td>100513</td>\n",
       "      <td>-1.0</td>\n",
       "    </tr>\n",
       "    <tr>\n",
       "      <td>1481</td>\n",
       "      <td>NaN</td>\n",
       "      <td>A TripAdvisor Member</td>\n",
       "      <td>Inexpensive and close to downtown without the ...</td>\n",
       "      <td>-1.0</td>\n",
       "      <td>-1.0</td>\n",
       "      <td>4.0</td>\n",
       "      <td>-1.0</td>\n",
       "      <td>NaN</td>\n",
       "      <td>-1.0</td>\n",
       "      <td>-1.0</td>\n",
       "      <td>-1.0</td>\n",
       "      <td>NaN</td>\n",
       "      <td>$85</td>\n",
       "      <td>100513</td>\n",
       "      <td>-1.0</td>\n",
       "    </tr>\n",
       "    <tr>\n",
       "      <td>1754</td>\n",
       "      <td>NaN</td>\n",
       "      <td>johnandjulie26</td>\n",
       "      <td>Great Adults Only Resort...       our spot eve...</td>\n",
       "      <td>-1.0</td>\n",
       "      <td>-1.0</td>\n",
       "      <td>5.0</td>\n",
       "      <td>5.0</td>\n",
       "      <td>NaN</td>\n",
       "      <td>-1.0</td>\n",
       "      <td>-1.0</td>\n",
       "      <td>-1.0</td>\n",
       "      <td>NaN</td>\n",
       "      <td>$338</td>\n",
       "      <td>1005302</td>\n",
       "      <td>-1.0</td>\n",
       "    </tr>\n",
       "    <tr>\n",
       "      <td>1756</td>\n",
       "      <td>NaN</td>\n",
       "      <td>gerryb12</td>\n",
       "      <td>Wow!!! A must go!!! We just got back from a aw...</td>\n",
       "      <td>-1.0</td>\n",
       "      <td>-1.0</td>\n",
       "      <td>5.0</td>\n",
       "      <td>5.0</td>\n",
       "      <td>NaN</td>\n",
       "      <td>-1.0</td>\n",
       "      <td>-1.0</td>\n",
       "      <td>-1.0</td>\n",
       "      <td>NaN</td>\n",
       "      <td>$338</td>\n",
       "      <td>1005302</td>\n",
       "      <td>-1.0</td>\n",
       "    </tr>\n",
       "    <tr>\n",
       "      <td>1758</td>\n",
       "      <td>NaN</td>\n",
       "      <td>AllieR</td>\n",
       "      <td>Beautiful two weeks in Paradise I just returne...</td>\n",
       "      <td>-1.0</td>\n",
       "      <td>-1.0</td>\n",
       "      <td>3.0</td>\n",
       "      <td>-1.0</td>\n",
       "      <td>NaN</td>\n",
       "      <td>-1.0</td>\n",
       "      <td>-1.0</td>\n",
       "      <td>-1.0</td>\n",
       "      <td>NaN</td>\n",
       "      <td>$338</td>\n",
       "      <td>1005302</td>\n",
       "      <td>-1.0</td>\n",
       "    </tr>\n",
       "    <tr>\n",
       "      <td>...</td>\n",
       "      <td>...</td>\n",
       "      <td>...</td>\n",
       "      <td>...</td>\n",
       "      <td>...</td>\n",
       "      <td>...</td>\n",
       "      <td>...</td>\n",
       "      <td>...</td>\n",
       "      <td>...</td>\n",
       "      <td>...</td>\n",
       "      <td>...</td>\n",
       "      <td>...</td>\n",
       "      <td>...</td>\n",
       "      <td>...</td>\n",
       "      <td>...</td>\n",
       "      <td>...</td>\n",
       "    </tr>\n",
       "    <tr>\n",
       "      <td>539659</td>\n",
       "      <td>NaN</td>\n",
       "      <td>A TripAdvisor Member</td>\n",
       "      <td>Hasta la Vista My boyfriend and I had been tra...</td>\n",
       "      <td>1.0</td>\n",
       "      <td>-1.0</td>\n",
       "      <td>1.0</td>\n",
       "      <td>1.0</td>\n",
       "      <td>NaN</td>\n",
       "      <td>-1.0</td>\n",
       "      <td>-1.0</td>\n",
       "      <td>-1.0</td>\n",
       "      <td>NaN</td>\n",
       "      <td>$92</td>\n",
       "      <td>251397</td>\n",
       "      <td>-1.0</td>\n",
       "    </tr>\n",
       "    <tr>\n",
       "      <td>539660</td>\n",
       "      <td>NaN</td>\n",
       "      <td>National_Park_Junkie</td>\n",
       "      <td>A home in the tropics with a view and a small ...</td>\n",
       "      <td>-1.0</td>\n",
       "      <td>5.0</td>\n",
       "      <td>4.0</td>\n",
       "      <td>3.0</td>\n",
       "      <td>NaN</td>\n",
       "      <td>3.0</td>\n",
       "      <td>-1.0</td>\n",
       "      <td>-1.0</td>\n",
       "      <td>NaN</td>\n",
       "      <td>$92</td>\n",
       "      <td>251397</td>\n",
       "      <td>-1.0</td>\n",
       "    </tr>\n",
       "    <tr>\n",
       "      <td>539661</td>\n",
       "      <td>NaN</td>\n",
       "      <td>kmh316</td>\n",
       "      <td>Beautiful View We stayed 3 nights here and had...</td>\n",
       "      <td>3.0</td>\n",
       "      <td>5.0</td>\n",
       "      <td>4.0</td>\n",
       "      <td>3.0</td>\n",
       "      <td>NaN</td>\n",
       "      <td>3.0</td>\n",
       "      <td>-1.0</td>\n",
       "      <td>-1.0</td>\n",
       "      <td>NaN</td>\n",
       "      <td>$92</td>\n",
       "      <td>251397</td>\n",
       "      <td>-1.0</td>\n",
       "    </tr>\n",
       "    <tr>\n",
       "      <td>539662</td>\n",
       "      <td>NaN</td>\n",
       "      <td>A TripAdvisor Member</td>\n",
       "      <td>Fine for a place to rest your head My boyfrien...</td>\n",
       "      <td>3.0</td>\n",
       "      <td>5.0</td>\n",
       "      <td>3.0</td>\n",
       "      <td>5.0</td>\n",
       "      <td>NaN</td>\n",
       "      <td>3.0</td>\n",
       "      <td>-1.0</td>\n",
       "      <td>-1.0</td>\n",
       "      <td>NaN</td>\n",
       "      <td>$92</td>\n",
       "      <td>251397</td>\n",
       "      <td>-1.0</td>\n",
       "    </tr>\n",
       "    <tr>\n",
       "      <td>539663</td>\n",
       "      <td>NaN</td>\n",
       "      <td>A TripAdvisor Member</td>\n",
       "      <td>Nice views, but they made us leave after an ho...</td>\n",
       "      <td>1.0</td>\n",
       "      <td>3.0</td>\n",
       "      <td>2.0</td>\n",
       "      <td>3.0</td>\n",
       "      <td>NaN</td>\n",
       "      <td>3.0</td>\n",
       "      <td>-1.0</td>\n",
       "      <td>-1.0</td>\n",
       "      <td>NaN</td>\n",
       "      <td>$92</td>\n",
       "      <td>251397</td>\n",
       "      <td>-1.0</td>\n",
       "    </tr>\n",
       "  </tbody>\n",
       "</table>\n",
       "<p>37073 rows × 15 columns</p>\n",
       "</div>"
      ],
      "text/plain": [
       "       Title                Author  \\\n",
       "1480     NaN           kangarooish   \n",
       "1481     NaN  A TripAdvisor Member   \n",
       "1754     NaN        johnandjulie26   \n",
       "1756     NaN              gerryb12   \n",
       "1758     NaN                AllieR   \n",
       "...      ...                   ...   \n",
       "539659   NaN  A TripAdvisor Member   \n",
       "539660   NaN  National_Park_Junkie   \n",
       "539661   NaN                kmh316   \n",
       "539662   NaN  A TripAdvisor Member   \n",
       "539663   NaN  A TripAdvisor Member   \n",
       "\n",
       "                                                  Content  Ratings-Service  \\\n",
       "1480    Value + Lake Union views This somewhat aged ho...              4.0   \n",
       "1481    Inexpensive and close to downtown without the ...             -1.0   \n",
       "1754    Great Adults Only Resort...       our spot eve...             -1.0   \n",
       "1756    Wow!!! A must go!!! We just got back from a aw...             -1.0   \n",
       "1758    Beautiful two weeks in Paradise I just returne...             -1.0   \n",
       "...                                                   ...              ...   \n",
       "539659  Hasta la Vista My boyfriend and I had been tra...              1.0   \n",
       "539660  A home in the tropics with a view and a small ...             -1.0   \n",
       "539661  Beautiful View We stayed 3 nights here and had...              3.0   \n",
       "539662  Fine for a place to rest your head My boyfrien...              3.0   \n",
       "539663  Nice views, but they made us leave after an ho...              1.0   \n",
       "\n",
       "        Ratings-Cleanliness  Ratings-Overall  Ratings-Value  \\\n",
       "1480                    3.0              3.0            4.0   \n",
       "1481                   -1.0              4.0           -1.0   \n",
       "1754                   -1.0              5.0            5.0   \n",
       "1756                   -1.0              5.0            5.0   \n",
       "1758                   -1.0              3.0           -1.0   \n",
       "...                     ...              ...            ...   \n",
       "539659                 -1.0              1.0            1.0   \n",
       "539660                  5.0              4.0            3.0   \n",
       "539661                  5.0              4.0            3.0   \n",
       "539662                  5.0              3.0            5.0   \n",
       "539663                  3.0              2.0            3.0   \n",
       "\n",
       "        Ratings-Sleep Quality  Ratings-Rooms  Ratings-Location  \\\n",
       "1480                      NaN            3.0               4.0   \n",
       "1481                      NaN           -1.0              -1.0   \n",
       "1754                      NaN           -1.0              -1.0   \n",
       "1756                      NaN           -1.0              -1.0   \n",
       "1758                      NaN           -1.0              -1.0   \n",
       "...                       ...            ...               ...   \n",
       "539659                    NaN           -1.0              -1.0   \n",
       "539660                    NaN            3.0              -1.0   \n",
       "539661                    NaN            3.0              -1.0   \n",
       "539662                    NaN            3.0              -1.0   \n",
       "539663                    NaN            3.0              -1.0   \n",
       "\n",
       "        Ratings-Check in / front desk Name Price  HotelID  \\\n",
       "1480                              3.0  NaN   $85   100513   \n",
       "1481                             -1.0  NaN   $85   100513   \n",
       "1754                             -1.0  NaN  $338  1005302   \n",
       "1756                             -1.0  NaN  $338  1005302   \n",
       "1758                             -1.0  NaN  $338  1005302   \n",
       "...                               ...  ...   ...      ...   \n",
       "539659                           -1.0  NaN   $92   251397   \n",
       "539660                           -1.0  NaN   $92   251397   \n",
       "539661                           -1.0  NaN   $92   251397   \n",
       "539662                           -1.0  NaN   $92   251397   \n",
       "539663                           -1.0  NaN   $92   251397   \n",
       "\n",
       "        Ratings-Business service  \n",
       "1480                        -1.0  \n",
       "1481                        -1.0  \n",
       "1754                        -1.0  \n",
       "1756                        -1.0  \n",
       "1758                        -1.0  \n",
       "...                          ...  \n",
       "539659                      -1.0  \n",
       "539660                      -1.0  \n",
       "539661                      -1.0  \n",
       "539662                      -1.0  \n",
       "539663                      -1.0  \n",
       "\n",
       "[37073 rows x 15 columns]"
      ]
     },
     "execution_count": 41,
     "metadata": {},
     "output_type": "execute_result"
    }
   ],
   "source": [
    "df_clean[df_clean['Ratings-Business service'] == -1]"
   ]
  },
  {
   "cell_type": "code",
   "execution_count": 42,
   "metadata": {},
   "outputs": [
    {
     "data": {
      "text/plain": [
       "'Inexpensive and close to downtown without the parking problems For the money this is a great pick. You can drive downtown in just minutes and the rooms are clean, pools is fine, and the views are wonderful. The setting is on the side of a hill overlooking Lake Union just 5 min. north of downtown. Not much within walking distance, and trying to find places to eat without going downtown was not too easy, but after a day it got easier to find things.'"
      ]
     },
     "execution_count": 42,
     "metadata": {},
     "output_type": "execute_result"
    }
   ],
   "source": [
    "df_clean.iloc[1481]['Content']"
   ]
  },
  {
   "cell_type": "markdown",
   "metadata": {},
   "source": [
    "Looks like -1 is same as NaN, because even with Ratings -1 is some fields, the Overall Rating is the average of only the positive Ratings."
   ]
  },
  {
   "cell_type": "markdown",
   "metadata": {},
   "source": [
    "#### analysing content column"
   ]
  },
  {
   "cell_type": "markdown",
   "metadata": {},
   "source": [
    "##### cleaning text"
   ]
  },
  {
   "cell_type": "code",
   "execution_count": 25,
   "metadata": {},
   "outputs": [],
   "source": [
    "lem = WordNetLemmatizer()\n",
    "def clean_text(text):\n",
    "    # remove special characters, punctuations, digits\n",
    "    text = re.sub('[^a-zA-Z]', ' ', text)\n",
    "    \n",
    "    # convert to lowercase\n",
    "    text = text.lower()\n",
    "    \n",
    "    # Convert to list from string\n",
    "    text = text.split()\n",
    "    \n",
    "    # lemmatisation\n",
    "    text = [lem.lemmatize(word) for word in text] \n",
    "    text = \" \".join(text)\n",
    "    return text"
   ]
  },
  {
   "cell_type": "code",
   "execution_count": 26,
   "metadata": {},
   "outputs": [
    {
     "name": "stderr",
     "output_type": "stream",
     "text": [
      "100%|████████████████████████████████| 873387/873387 [12:55<00:00, 1126.85it/s]\n"
     ]
    }
   ],
   "source": [
    "df_clean['Clean_Content'] = df_clean['Content'].progress_apply(lambda x: clean_text(x))"
   ]
  },
  {
   "cell_type": "code",
   "execution_count": 253,
   "metadata": {},
   "outputs": [],
   "source": [
    "# def generate_corpus(rows):\n",
    "#     corpus = list()\n",
    "#     for i in rows:\n",
    "#         # remove everything except alphabets\n",
    "#         text = re.sub('[^a-zA-Z]', ' ', df_clean['Content'][i])\n",
    "    \n",
    "#         # convert to lowercase\n",
    "#         text = text.lower()\n",
    "\n",
    "#         # Convert to list from string\n",
    "#         text = text.split()\n",
    "\n",
    "#         # lemmatisation\n",
    "#         lem = WordNetLemmatizer()\n",
    "#         text = [lem.lemmatize(word) for word in text] \n",
    "        \n",
    "#         text = \" \".join(text)\n",
    "#         corpus.append(text)\n",
    "#     return corpus"
   ]
  },
  {
   "cell_type": "code",
   "execution_count": null,
   "metadata": {},
   "outputs": [],
   "source": [
    "## Multiprocessing for speeding-up\n",
    "\n",
    "# pool = Pool(3)\n",
    "# total_iter = len(df_clean['Content'])\n",
    "# corpus = tqdm(pool.imap(generate_corpus, range(total_iter)), total=total_iter) # Returns a list of lists\n",
    "# # Flatten the list of lists\n",
    "# corpus = [item for sublist in corpus for item in sublist]"
   ]
  },
  {
   "cell_type": "markdown",
   "metadata": {},
   "source": [
    "##### top 20 unigrams"
   ]
  },
  {
   "cell_type": "code",
   "execution_count": 41,
   "metadata": {},
   "outputs": [],
   "source": [
    "#Most frequently occuring words\n",
    "def get_top_n_words(corpus, n=None):\n",
    "    vec = CountVectorizer(stop_words='english').fit(corpus)\n",
    "    bag_of_words = vec.transform(corpus)\n",
    "    sum_words = bag_of_words.sum(axis=0) \n",
    "    words_freq = [(word, sum_words[0, idx]) for word, idx in vec.vocabulary_.items()]\n",
    "    words_freq =sorted(words_freq, key = lambda x: x[1], reverse=True)\n",
    "    return words_freq[:n]"
   ]
  },
  {
   "cell_type": "code",
   "execution_count": 43,
   "metadata": {},
   "outputs": [],
   "source": [
    "#Convert most freq words to dataframe for plotting bar plot\n",
    "top_words = get_top_n_words(df_clean['Clean_Content'], n=20)\n",
    "top_df = pd.DataFrame(top_words, columns=[\"Word\", \"Freq\"])"
   ]
  },
  {
   "cell_type": "code",
   "execution_count": 45,
   "metadata": {},
   "outputs": [
    {
     "data": {
      "image/png": "[encoded data removed]",
      "text/plain": [
       "<Figure size 936x576 with 1 Axes>"
      ]
     },
     "metadata": {},
     "output_type": "display_data"
    }
   ],
   "source": [
    "#Barplot of most freq words\n",
    "sns.set(rc={'figure.figsize':(13,8)})\n",
    "g = sns.barplot(x=\"Word\", y=\"Freq\", data=top_df)\n",
    "g.set_xticklabels(g.get_xticklabels(), rotation=30);"
   ]
  },
  {
   "cell_type": "markdown",
   "metadata": {},
   "source": [
    "#### top 20 bi-grams"
   ]
  },
  {
   "cell_type": "code",
   "execution_count": 59,
   "metadata": {},
   "outputs": [],
   "source": [
    "def get_top_n_bigram(corpus, n=None):\n",
    "    vec = CountVectorizer(ngram_range=(2, 2), stop_words='english').fit(corpus)\n",
    "    bag_of_words = vec.transform(corpus)\n",
    "    sum_words = bag_of_words.sum(axis=0) \n",
    "    words_freq = [(word, sum_words[0, idx]) for word, idx in vec.vocabulary_.items()]\n",
    "    words_freq =sorted(words_freq, key = lambda x: x[1], reverse=True)\n",
    "    return words_freq[:n]"
   ]
  },
  {
   "cell_type": "code",
   "execution_count": 60,
   "metadata": {},
   "outputs": [],
   "source": [
    "#Convert most freq words to dataframe for plotting bar plot\n",
    "top_words = get_top_n_bigram(df_clean['Clean_Content'], n=20)\n",
    "top2_df = pd.DataFrame(top_words, columns=[\"Bi-gram\", \"Freq\"])"
   ]
  },
  {
   "cell_type": "code",
   "execution_count": 61,
   "metadata": {},
   "outputs": [
    {
     "data": {
      "image/png": "[encoded data removed]",
      "text/plain": [
       "<Figure size 936x576 with 1 Axes>"
      ]
     },
     "metadata": {},
     "output_type": "display_data"
    }
   ],
   "source": [
    "sns.set(rc={'figure.figsize':(13,8)})\n",
    "h=sns.barplot(x=\"Bi-gram\", y=\"Freq\", data=top2_df)\n",
    "h.set_xticklabels(h.get_xticklabels(), rotation=70);"
   ]
  },
  {
   "cell_type": "markdown",
   "metadata": {},
   "source": [
    "1. Most users are talking about the features of hotels like rooms, staff, service, breakfast, location.\n",
    "2. Most reviews are positive with words like good, great"
   ]
  },
  {
   "cell_type": "markdown",
   "metadata": {},
   "source": [
    "#### content word count distribution"
   ]
  },
  {
   "cell_type": "code",
   "execution_count": 27,
   "metadata": {},
   "outputs": [
    {
     "name": "stderr",
     "output_type": "stream",
     "text": [
      "100%|███████████████████████████████| 873387/873387 [00:12<00:00, 72145.52it/s]\n"
     ]
    }
   ],
   "source": [
    "df_clean['Word_Count'] = df_clean['Clean_Content'].progress_apply(lambda x: len(str(x).split()))"
   ]
  },
  {
   "cell_type": "code",
   "execution_count": 28,
   "metadata": {},
   "outputs": [
    {
     "name": "stdout",
     "output_type": "stream",
     "text": [
      "Number of descriptions: 873387 \n",
      "Average word count 177.07397980505777 \n",
      "Minimum word count 0 \n",
      "Maximum word count 7218\n"
     ]
    }
   ],
   "source": [
    "print(\"Number of descriptions:\",len(df_clean['Word_Count']),\n",
    "      \"\\nAverage word count\", df_clean['Word_Count'].mean(),\n",
    "      \"\\nMinimum word count\", df_clean['Word_Count'].min(),\n",
    "      \"\\nMaximum word count\", df_clean['Word_Count'].max())"
   ]
  },
  {
   "cell_type": "markdown",
   "metadata": {},
   "source": [
    "##### largest content"
   ]
  },
  {
   "cell_type": "code",
   "execution_count": 29,
   "metadata": {},
   "outputs": [
    {
     "data": {
      "text/plain": [
       "'loved it would definitely recommend detailed review we picked this resort based it beautiful beach price and positive review from frommers trip advisor our travel agent and a fellow co worker we stayed from july august it wa our st anniversary were both canadian from the greater toronto area and have traveled to a few all inclusives in the caribbean my wife is a year old teacher and i m a year old firefighter this website is an invaluable wealth of information so we want to reciprocate and share our experience price watched the price for month on website selloffvacations com and itravel prior to booking paid canadian plus tax per person for a one week stay we researched other hotel in punta cana including the riu property bahia principe per person plus tax and catalonia bavaro per person plus tax paradisus palma real received rave review but wa easily more per person during the same week our tour operator wa signature vacation more on them at the end of my review flight to punta cana a we stayed at the doubletree toronto airport the evening prior to our flight clean and comfortable hotel this included a shuttle to the airport and parking for day canadian including tax money well spent no problem had breakfast at perkins a short walk down the street from the hotel prior to check in at the doubletree we had a dinner reservation in the distillery district at pure spirit oyster house great location and atmosphere highly recommended bucket of champagne wa at our table awaiting our arrival which wa a surprise to u dinner wa excellent check wa picked up by my wife part time summer employer we were stunned a great way to start our trip our flight wa scheduled to depart at pm doubletree provides a complimentary shuttle to the airport our flight wa delayed and didn depart until pm flight wa hour provided in flight movie toasted panini and a fruit bar and continual update via monitor of flight location altitude and speed nice touch flight wa comfortable minor complaint a a few kid were continually cry can help that landed at pm didn have to adjust our watch same time zone punta cana airport a our flight wa the only group at the airport disembarked on the tarmac we were requested to form a line and in this fashion we were escorted into the thatched roof airport girl wearing fruit on their head and national costume took our picture a we entered the airport they attempt to charge you u for them on your return flight breezed through custom u tourist tax wa already included so we didn have to fumble around for money just had to present tourist card which we were given upon boarding in toronto no problem collecting luggage local fishing for a tip were waiting to carry your bag we held on to our luggage and followed the signature vacation sign to our awaiting vehicle our transportation wa a small bus with a cart trailer attached to the back for luggage transportion to resort a paradisus punta cana is about minute from the airport our signature representative assured u we would be the second drop off everybody else on the bus passenger were going to other resort in the area tour rep spoke broken english during the drive and provided valuable tip and insight about the region evening drive to our resort wa an eye opener very impoverished countryside local were either hanging out at the side of the road or driving scooter and small motorcycle at a high rate of speed without helmet road were filled with huge pot hole and void of traffic light or line painted on them three guy on a motorcycle driving alongside our bus carrying a mattress provided a laugh hotel location located on the easternmost tip of the dominican republic surrounded by both the atlantic ocean and caribbean sea it a huge coastline of sandy white beach and numerous all inclusive resort punta cana would be best described a a village no downtown area all the hotel in punta cana have a security gate which you must pas through in order to enter the front of the property if you leave the property you must show your wristband for re entry through the front gate local living in squalor are only a few hundred foot from the front gate of all the resort we passed we always felt safe and comfortable but heaven forbid if the native had an uprising check in a arrived at pm were greeted by a bellhop a we exited the bus who loaded our bag onto a golf cart very beautiful open air lobby but didn have the architectural wow factor that we seen at other resort paradisus palma real we had frequented in the past numerous candle lit and incense burning very zen like check in wa quick and painless gave u a map and explained where our room and restaurant were located we were quietly concerned a according to the map our building appearing mile from the beach we were situated in building e mailed the hotel prior to arrival to request a property map so we could familiarize ourselves with the property beforehand and requested a second floor room request granted were greeted with a lovely beverage while we completed our check in lobby bar wa to our right and had a handful of couple listening to a latin guitarist very nice ambiance the resort appeared very quiet perfect place for relaxation and solitude property wa magnificent a we were driven to our room beautifully lit pathway tranquil music emitted from speaker disguised a rock very romantic accomodation a wow beautiful clean spacious room with a high vaulted ceiling exceeded our expectation bottle of champagne on ice fresh flower towel animal on the bed and fruit basket awaited our arrival we gave the fruit to the cleaning staff king size bed wa very comfortable not hard like other resort we e experienced nice pillow and duvet slept great air conditioning worked good and wa almost too cold for sleeping the temperature could be adjusted ceiling fan above bed sunken living room bathroom wa divided in two area sink that had a huge counter and closet behind it with mirrored door full size door not a saloon door that i had read separated the toilet bidet and shower tub from the counter dressing area much storage in bathroom iron ironing board umbrella robe tv which picked up cnn ch cnn international ch fox ny ch abc ny ch and the golf channel all the other station were in spanish safe provided for your valuable small fridge that contained beer bottled water and various flavored soft drink coca cola product coffee maker and package of coffee a well balcony that overlooked the ground had two chair a table and a chaise lounge ground are very impressive expected a slight musty odour in the room due to the humidity in the caribbean and brought along a couple of airwicks didn need them this wa just a regular room junior suite no upgrade impressive nicest room i have stayed in at an all inclusive resort the property ha villa style building they are story tall and house unit of those building are dedicated to royal service client building is centrally located walk is minute from the majority of the restaurant and minute from the beach the spa wa located directly beside u and closed at pm great neighbor a they didn make any noise after pm you can shoot a cannon through the resort very quiet only time i wa awoken at night wa during a big storm and a two second power outage out of curiosity i got up to look out the window to witness the deluge occasionally you would hear conversation amongst european traveler returning to their room voice tended to carry in the stairway cleaning staff room service b minor complaint fridge wasn always restocked with water even after leaving a note we learned quick and brought bottled water from the bar upon our return from the beach would leave a tip daily once i left the remote control on the bed to hold down the tip so it didn blow away due to the overhead ceiling fan they took the remote control learned my lesson hid the remote and used the ashtray to hold the tip key for the safe didn work our first night just brought it to the front desk near the lobby bar the following night for an exchange everything easily rectified requested extra pillow directly from the maid and received them noticed they would clean the room in our villa around am by then we had already vacated our room and were sitting on the beach always came back to a clean room with lot of towel and fresh flower cleaning staff doesn speak english but were very pleasant took a few extra second to communicate no problem you e on holiday ordered room service twice first time half our order wa missing we didn bother complaining and blamed it on the language barrier second time everything wa perfect food always came with a smile always gave them a tip regardless facility a outstanding beautiful amazing huge resort technically three resort in one with somewhat shared facility regular royal service and reserve time share lobby area house an air conditioned casino bar lounge area gift shop tour operator during the day entertainment theater and a specialty restaurant fuego warning the concierge wearing white linen shirt and beige pant in the lobby will approach you under the pretense of offering assistance for reservation to the specialty restaurant they will give you a time share pitch for the reserve side of the resort and other property owned by sol melia why mix business with pleasure the bar lounge area come somewhat alive at night depending on the time of week always some type of entertainment live music dancing fire show dj and even a disco with go go dancer and light show the lobby is separated from the villa by a mangrove jungle area it a good minute romantic walk especially at night to your room the pathway are softly lit and music is lightly piped in the golf cart tram are continually shuttling guest around the property we preferred to walk why be in a hurry you e on vacation you could even hitch a ride with the staff going to various area of the resort warning if you happen to be riding with a concierge they l give you a time share pitch swinging bench are available in the lobby while waiting for a ride a lazy american wa complaining the cart didn run on a more frequent schedule for his liking royal service side had it own small beautiful pool with swim up bar we tested the water before politely getting the boot zero atmosphere a nobody wa ever in it had their own roped off section at the beach each room wa assigned their own palapa and bali bed didn have to worry about the towel game that appeared to be the only advantage and didn seem worth the extra money their villa appear identical from the outside i can comment on the interior reserve time share area is off to one side near the lobby recently built thus more modern and not even close to the beach three storey building surround a pool that reminds me of caesar palace in vega incredible we roamed over to this side three time one evening while exploring the resort ground another for breakfast at the gabi vip buffet met a pleasant group of travel agent from the st louis area who provided good insight to the punta cana area and another time for dinner at one of the specialty a la carte restaurant vento that is housed in this area property must be m wide and km deep rough estimate ha thirty five storey villa style building each villa is divided in half so that the unit either face the property inwards toward the pool area or outwards toward the neighboring property the building that house royal service guest are closest to the ocean i believe the only building that offer an ocean view in royal service are and it dark by pm in the dominican there is a beautiful mangrove in the middle of the property with lit walkway my wife claim not high heel friendly poured concrete to mimic cobblestone expected to see lot of wildlife roaming around only thing we saw were bird flamingo and fire fly read on trip advisor to expect mosquito and bring bugspray never had to use it and my wife is susceptible ground are lush and impeccably maintained nicest i have seen at an all inclusive including the paradisus palma real staff is continually cleaning polishing raking and cutting a stunningly huge lagoon pool that wa in the middle of the property near the beach and restaurant fresh water and very warm not refreshing it housed a swim up bar and area for water polo and basketball wa surrounded by lounge chair palapas and bali bed daily free scuba diving trial in the pool at am sharp towel hut wa nearby open from am pm gift shop in the lobby suntan lotion wa u free copy of the miami herald international edition available in the stand beside the public relation desk internet service is available but i never inquired about the price massage palapas by the pool and on the beach gym and tennis court near the lobby never used them a we were there to relax on site dive shop scuba caribe for booking dive excursion free snorkel rental catamaran daily and kayak tour operator in the lobby separate secluded spa area beside buiding with it own pool surrounded by massage cabana very peaceful and serene with incense burning beach a breathtaking outstanding incredible without a doubt the nicest we had seen in punta cana a it wa constantly being maintained nice breeze blowing off the ocean disguised the humidity incredible sand turquoise blue warm water staff wa out every morning at am raking the accumulated overnight seaweed more like grass clipping and picking up empty beer can and drink container from people utilizing the beach in the evening why people are so lazy that they can walk foot to the numerous trash can is beyond me gardener raking fallen coconut from an evening storm wa chopping the top with his machete paid him a few buck grabbed a straw from the buffet and away i went beach had a roped off area to keep away parasail boat kayak and catamaran never saw any jet ski our preferred spot wa under the numerous palapas that housed the bali bed i wa up at am and placed our complimentary beach towel at our preferred location the bali bed were like kryptonite so comfortable and relaxing that once you sat in them they sucked all your energy and you didn want to move great place for an afternoon nap which we did often a few people were obviously out earlier securing palapas along the pool or the beach didn t bother u in the least bit plenty of spot were available and regular lounge chair were plentiful royal service roped off beach area had their own bali bed and palapas assigned to their room and didn have to get up early to play the towel game everyday we would be at the beach by am and it wa starting to get busy the occasional topless woman provided a european influence only complaint about the european on the beach wa that some would be conversing so loudly amongst themselves you would think they were foot away from each other terrible if trying to nap others were completely oblivious and never thought anything about smoking foot from you without taking in account the wind direction being canadian we were too polite to complain instead when securing my morning palapa bali bed i would move at least lounge chair within a foot radius to another locale problem solved people were too lazy to reorganize their chair and we remained undisturbed the balance of our stay there were a few vendor walking the beach selling cigar necklace straw hat and parasailing ride same vendor everyday mildly annoying but hearing their daily sale pitch wa humorous mokey time good cigar cheap cheap and arasailing banana boat snorkeling i wa surprised how far up the resort they would roam until security booted them closer to the ocean just ignore them or a simple o and they wouldn bother you hotel employed photographer offering to have your picture taken with monkey iguana parrot print available at the beach pool photo shop next to the towel hut for u went for a daily morning walk you are able to walk the beach along all the property without a hassle minor police presence a well a hotel security twice our walk were two hour in length glad we did our research and stayed at the paradisus a they had the nicest beach when facing the ocean walk to the right after minute you l come across a shanty type of flea market vendor are very aggressive and will try anything to get you to view their ware vendor will approach you shake your hand and attempt to pull you inside stating ou will make me money if you just look they came across a polite until you say o and become all dour all we could see from the beach wa junk beaded jewelry poetry painting he typical tourist souvenir the walk to the left is much more picturesque once you round the point minute walk there are a few tree leaning on a degree angle towards the ocean perfect picture spot you will also view the russian freighter that ha been marooned on the reef since i estimating it to be about a mile from shore many people wind surfing kayaking and had catamaran close to the wreck there is also another flea market type shopping area on the beach that appears more polished tent and employee shirt are yellow we were never approached or bothered eventually you l pas the riu property for some reason they have beach erosion and the water smell of gasoline due to high amount of motorized water activity never saw a beach a nicely maintained a the paradisus beach that includes the beach in the mexican mayan riviera observed the paradisus staff setting up for a wedding on the beach beautiful location we never witnessed the ceremony but observed a large thong wearing topless woman posing for pic and using the archway a a stripper pole my wife remarked the bride would have been appalled we found it mildly entertaining pelican constantly flying overhead dive bombing the ocean in search of fish bar a smartest move we made wa bringing ounce thermal mug to the beach saved u from having to make many trip to the beach bar for refill also took them with u when we went for walk immediately tipped the bartender at the beach bar u to set the tone early they were very generous with the alcohol and always happy to see u we tipped them u every time we refilled our mug we actually had to tell them to go easy on the booze a the drink were too strong everybody else drank from the small plastic tumbler provided fool we drank plenty of delicious tropical drink all week beach cocktail service wa only available to royal service patron a you relaxed in your lounge chair but i didn t see the drink coming very quick it wa extremely hot and we were thirsty beer wa either heineken or presidente the lobby bar wa beautiful in the evening they would always have some type of entertainment tipped the bartender u after every drink order and they were most appreciative the high end liquor wa kept here and on display bombay gin absolute vodka coldest beer on the property free cigar are also available trick is to order your drink produce a tip and then ask for a cigar i noticed no tip meant they didn have cigar we usually had an after dinner drink or a cappuccino before retiring for the evening they even have bali bed at the lobby bar with cocktail service swim up bar always had a small crowd but never a wait tipped them u and they were grateful swim up bar isn adult only a it part of the main pool staff who conducted the merengue lesson had a miss paradisus contest in front of the swim up bar provided a good laugh adult only swim up bar in the royal service section absolutely beautiful walked past numerous time and noticed nobody wa ever there and had zero atmosphere there is a small bar area lounge in the main food building people would have a drink while waiting to enter the restaurant or an after dinner drink apparently people frequent the disco mangu a few resort over occidental grand we saw the sign from the road and were somewhat concerned a it looked run down and heard the local mingle with tourist can confirm this a we never attended food b tried to make reservation for the specialty a la carte restaurant via e mail prior to our arrival request denied no problem all dinner reservation are made in the main food building that also house the breakfast dinner buffet concierge desk for dinner reservation is located at the front entrance staff doesn arrive until am made all our dinner reservation in one visit for the duration of our stay menu are available to preview all of our reservation were for pm claimed that all they had available we didn care weren t in a hurry and wanted to relax we always showed up early for our dinner reservation sometimes an hour early and never had to wait we always left a tip to our server note the reservation run on a weekly basis starting on sunday noticed a large line on sunday morning a new booking are taken for the week warning time share concierge are lurking in this area while you e waiting in line they will attempt to persuade people to attend a vip breakfast time share presentation minor nuisance ignore them we ate at the following restaurant and have ranked them based on preference french el romantico only air conditioned restaurant located in the main food building this is a specialty a la carte restaurant that required a reservation and long pant for gentleman i had a beautiful shrimp appetizer while my wife had duck and a crab salad we both had beef tenderloin with baked potato a our main cooked to perfection decadent dessert great food presentation we split a bottle of wine beware all of the a la carte specialty restaurant have two wine list one that list wine that is included for all inclusive guest another that list wine that cost extra to u per bottle the all inclusive list wa fine with u were not wine snob and had some decent wine our server richard wa great and spoke pretty good english dolce vita italian located in the main food building doe not require a reservation nor a dress code open air it hot and also ha a few palapa covered table on stilt surrounded by a pond flamingo are hanging around waiting for a handout open from noon till at least pm we ate here a few time great pizza tomato mozzarella salad beef carpaccio and gnocchi we would often have lunch here a well bathing suit must be dry they will touch you to check or you must have a pool towel to sit on we often had the same server moises who spoke minimal english but wa funny fuego latin bistro air conditioned very cold and located in the lobby this is a specialty a la carte restaurant that required a reservation and long pant for gentleman we had octopus shrimp and tortilla soup my main wa somewhat disappointing and wa similar to a fajita food presentation and d cor wa unbelievable very hip and trendy vibe something you would see in downtown toronto server did not speak english and wa somewhat off in term of timely and accurate drink delivery no problem a we were on vacation manager wa very warm spoke excellent english meticulously dressed tailored suit and always walking around checking on the patron perhaps this made the staff nervous restaurant turn into a lounge after pm vento mediterranean air conditioned and located on the reserve side of the resort this is a specialty a la carte restaurant that required a reservation and long pant for gentleman stylish decor great food presentation and decent food had a great table and good service we had the usual fare salad soup and a nice chicken dish we passed on dessert and opted for a coffee at the lobby bar very quiet atmosphere soft music and low lighting very sedate albufera steak located in the main food building doe not require a reservation nor a dress code the steak wa decent always order the tenderloin my wife polished off a bottle of champagne during dinner richard from el romantico wa our server great service once again they must rotate their server throughout the various restaurant marino seafood great ambiance with a nice ocean breeze my wife is a huge seafood fan and wa somewhat disappointed she enjoyed her octopus appetizer and seafood soup our main course wa grilled lobster covered in a lime sauce terrible this restaurant house the beachside lunch buffet during the afternoon we wound up going to dolce vita to satisfy our hunger there a japanese restaurant sakura on site but apparently wa booked all week truthfully we never saw it open didn matter a we had lot of option there also a brazilian rodizzio and chinese pavillion restaurant in the main food building they didn require a reservation and weren air conditioned we never ate there but an american couple told u the chinese wa good prior to our stay we had read about a mexican restaurant on the premise but never found it nor wa it located on the property map breakfast buffet wa good located in the main open air food building called hibiscus large selection of bread baked good fruit cheese brie goat and meat prosciutto great bacon and coffee omelette and fruit smoothy made to order could always find something good to eat pretty much the same offering every day no fly or bird all the food is displayed in an air conditioned area i believe it opened at am a it wa pretty empty i would head to the beach every morning with towel to secure our bali bed stop by the buffet and grab a coffee fruit and croissant head to the room and watch cnn while my wife got organized we would be back at the breakfast buffet at am service wa good and we e not above getting up and helping ourselves to juice or coffee hibiscus close at lunch and reopens for dinner we never ate here for dinner a we frequented the a la carte my wife walked in to investigate and said the selection wa decent hibiscus close at lunch and food is served at the large beachside palapa they had great hamburger sausage fry and regular buffet fare hamburger were grilled to order and would be a minute wait watched an american have a fit because he had to wait a few extra minute for his burger wound up stomping off empty handed why get excited you e on vacation where do you have to be in minute lunch buffet wa more relaxed a everybody wa in swimsuit we strolled over to the reserve time share side of the resort for breakfast one morning it called the gabi vip buffet breakfast area we had been offered the vip breakfast so often by the concierge veiled attempt at a time share pitch we figured they must be offering them to every tom dick and harry the trick wa you had to attend the breakfast area with a concierge so they could show you around couldn escape and basically held hostage for a hour presentation so i heard forget that crap we just walked in on our own worst case scenario we would be asked to leave everybody wristband labeled reserve ours paradisus nobody even raised an eyebrow breakfast wa a minor step up to the offering in the regular hibiscus buffet in a more modern facility irony wa we passed all the time share concierge having a pump up meeting in the lobby on our way back from gabi no doubt plotting to prey on unsuspecting tourist when we booked the paradisus punta cana we also looked at the paradisus palma real it wa more per person per week spoke to the public relation desk at our resort regarding reciprocating privilege and inquired about having dinner there gave them the spiel we intended to come back to a paradisus resort in punta cana and wanted to see if the palma real wa worth the extra claimed the only time they allow guided tour are on tuesday and thursday dinner is an extra u per person told her politely to go whistle our resort provides transportation to the palma real shopping mall which is obviously close to the paradisus palma real a you can guess we took advantage of the minute free ride strolled around the open air mall which wa a waste of time and crashed the palma real it a good minute walk from the mall our bus driver wa shuttling people to the resort recognized u and gave u a lift no problem walking on the property right through the front lobby same wristband had dinner in their main buffet area beautiful setting definitely a step up from the offering at the paradisus punta cana they had a large mexican selection which we enjoyed we took advantage of room service twice just ordered basic like pizza shrimp cocktail and hamburger just to be safe we took two shot of pepto bismal and an imodium tablet everyday never had any stomach problem activity entertainment a there is a sport complex in the middle of the property rock climbing wall batting cage and archery they have bike available for guest and we took advantage we showed up at pm not knowing they close at pm they still let u take them and told u just to park them beside the locked bike upon our return we tipped him a few buck bike aren in the greatest condition you have to pick through the selection to find one without flat tire or missing chain and have only one gear we explored the whole property and even inadvertently rode through the staff quarter and watched them playing basketball my wife wa pleased their accommodation were pretty decent we even saw where the horse and carriage for wedding wa housed there wa always some form of scheduled activity going on at beach in front of the activity hut beside the dive shop volleyball bocce aerobics soccer meringue lesson and basketball none of these activity were intrusive you didn t feel obligated to participate nor wa it so loud that it would be disruptive if you were only interested in relaxing free scuba diving that wa offered in the pool at am sharp you had to make a reservation a day in advance boogie board were available for a u refundable deposit we used them a few time later in the afternoon a the ocean became rougher awesome catamaran are available for an hour you have to make a reservation a day in advance we went out twice at am my wife wa initially hesitant a we watched a couple attempting to bring one to shore and almost flipped it due to the wave i reassured her i had experience piloting these boat lie first time we took it out we inadvertently extended our sail by an extra hour wind wa awesome and we sailed to the left past the russian freighter beyond the remaining resort getting back wa somewhat problematic a we had to zig zag back into the wind staff wa great but we felt so bad we brought them pizza and coca cola from dolce vita they were most pleased we rented a catamaran again the following day this time we didn go beyond our designated hour staff greeted u a we sailed into the beach a we hauled it up shore we watched a cable snap and the mast came crashing to the ground luckily it didn hit anyone provided a good laugh and they reassured u that it wa an easy repair again we felt so bad we brought them more pizza and coca cola from dolce vita one day we went horseback riding on the beach you book in advance at the activity hut two trip daily am and pm doesn cost anything a truck with an overhead tarp pick you up in the lobby it make a few pit stop on route at other resort to pick up more participant ranch is located beside the barcelo and bahia principe resort horse were not well kept dog roaming the premise were infested with flea brought a few woman in our group close to tear they supplied helmet i would recommend you wear a cap underneath guide led you through the hotel staff entrance which wa not nice compared to the paradisus to an undeveloped beach beautiful absolutely amazing large wave crashing against the shore wish i had a boogie board horse required minimal guidance and were quite familiar with the route which wa along the water edge you could gently steer them towards the water up to their knee passed a local who wa spear fishing and had quite a haul wish i took a picture i suspect the horseback riding along this route will eventually end a a massive resort wa under construction can see a hotel allowing horse to poop on their property ride lasted minute your picture are taken by staff during the ride and placed on rum bottle for purchase met a very nice family from new jersey who provided some entertaining commentary during the truck ride round trip wa hour and worth the u tip again passed many local living in squalor just outside the entrance to all the resort sad there is an air conditioned theater near the lobby used for nightly variety show i believe they started around pm but we never attended the performer were very friendly a they would walk through the restaurant reminding everyone of the nightly entertainment there were sign posted throughout the resort regarding the evening performance michael jackson latin theme movie theme one early evening we caught the complimentary bus to the palma real shopping mall minute ride wa an open air mall that had a tony rom hard rock caf ocean pacific and movie theater we just browsed around and nothing really caught our eye asked a security guard for direction to the paradisus palma real but he couldn understand english eventually spoke with another security guard who pointed u in the right direction long driveway to the resort we walked about minute before being passed by the bus driver who initially dropped u at the mall he stopped to shuttle u to the palma real which saved u a minute walk showed our wrist band to security at the main gate wow from an architectural standpoint this place blow away the paradisus punta cana lobby is raised above the rest of the property you look out through a courtyard across the pool with a clear shot of the ocean beautiful property appears recently built much different layout than the paradisus punta cana everything is more compact property isn a deep but is wider ground aren near a lush lot of concrete stunning nevertheless reminds me of a smaller version of the bellagio in vega all the specialty al la carte restaurant are on the perimeter of the courtyard pool is massive beach ha bali bed but doesn seem a nice lobby bar is gorgeous can hear plan flying overhead due to it close proximity to the airport dinner buffet wa great better selection than our resort i e read on trip advisor that this resort is also heavy on the time share pitch not sure if it worth an extra per person per week would definitely consider if it wa few hundred dollar more cab ride back to our resort wa u passed by a bar that had hundred of local milling about outside weather a fantastic degree celcius everyday factoring in the humidex it wa very hot and obviously humid people who have complained on trip advisor regarding the heat make me laugh what would you expect in the caribbean during the summer sunny everyday had to be near water to cool off or near the ocean with the strong breeze rained a few night after am wind howling and torrential downpour had dried up by the time we awoke were initially concerned about hurricane season when booking wasn t even a factor bring a hat sunscreen sunglass enjoy a cool beverage and seek shade often the bali bed near the ocean provided shade and a nice breeze clientele b spoke with many nice people from all over the world mostly european patron people were friendly not intrusive and there for relaxation noticed some people rude and disrespectful to the staff unfortunately american some topless european woman on the beach no big deal a few noisy smoking european lot of couple and family kid were very well behaved and mostly hung out near the pool area and the lobby with their family after dinner the property is very quiet at night wouldn t recommend for those seeking a party spring break atmosphere departure f signiture ha a kiosk in the lobby we never attended the welcome briefing a it wa at am prime beach time and they usually try to sell tour we never saw our signature rep a we were only in the lobby during the evening looked at the book that informed u of our pm departure time signature rep phone number is available if you have any question or concern checkout time is pm u for each additional hour spoke with the front desk and they let u have our room till pm au gratis claimed the room key would have to be reprogrammed to work after pm my wife wa skeptical and we tried with no problem lobby ha shower facility not air conditioned and an area to store your luggage checkout at pm wa quick and painless stashed our luggage and headed back to the beach headed to the lobby bar at pm to enjoy a few more cocktail while awaiting our signature bus to the airport bus arrived on time and made a pit stop to another resort for more passenger check in at airport wa uneventful and were provided u voucher for wendy that should have been a tip off picture that were taken upon our entrance to the airport a week earlier were on display and available for purchase u not happy when you told them too expensive flight wa departing from the new terminal air conditioned had plenty of time to meander the airport before our pm flight there wasn much to look at had a few store and place to eat which all close at pm outdoor playground to keep kid occupied announcement made at pm that our flight wa delayed until pm by pm the passenger for our flight were the only one left at the airport it wa then that we noticed half the passenger that came on our flight from toronto were conspicuously absent suspected the other tour operator sunwing sunquest had tipped off their patron about the delay at pm our flight wa cancelled maintenance problem in toronto until the morning collected luggage signature provided bus ride to natura park for overnight accommodation it wa relatively close to the airport hotel to be commended for keeping the buffet open and accommodating a large group of hostile traveler at pm best described a a lodge you would see in northern canada very rustic horrible karaoke in the lobby room wa dark dingy musty and very outdated small pillow double bed no towel or remote for the tv ac didn t work in some room according to our group better than spending the night in the airport after spending one week at the paradisus punta cana this wa an unbelievable downgrade i checked the rate on itravel and this place wa only cheaper per person per week best analogy would be from staying one week at the plaza hotel in new york to a room at a motel bus picked u up at am for return to airport many people complaining about their accommodation suggest if one is considering the natura park to pay a little more and stay at another resort in the area check in at airport very easy didn have to go through custom again one guy had to pay extra for his luggage a it supposedly exceeded the weight limit although it wa acceptable in toronto again we were the only group in terminal spoke with vacationer who we had seen on our flight down but didn see at the airport last evening they had booked with other tour company not signature and had been given advance warning of the plane cancellation and stayed at their resort intend to contact signature and complain upon boarding plane two passenger discovered that their seat number did not exist a a different model of plane flew u down from toronto scramble to accommodate them plane from toronto landed in punta cana at we departed at am apology and voucher to be used towards another skyservice flight hour flight provided in flight movie breakfast complimentary alcoholic beverage earphone and continual update via monitor of flight location altitude and speed screaming greek canadian family still livid about flight delay otherwise uneventful flight landed at pm luggage delayed minute waited minute for the doubletree toronto airport shuttle overall experience a rave review perfect spot for a relaxing holiday lot of food option incredible beach and property impeccably maintained ground brought u for tip great value for our money help to speak a little spanish but not essential only staff who spoke english were in a position of authority other than the constant harassment by a few employee regarding the time share the remainder of staff wa wonderful check your attitude at the door and smile you e on vacation wouldn hesitate to recommend this resort'"
      ]
     },
     "execution_count": 29,
     "metadata": {},
     "output_type": "execute_result"
    }
   ],
   "source": [
    "df_clean[df_clean['Word_Count']==7218]['Clean_Content'].item()"
   ]
  },
  {
   "cell_type": "markdown",
   "metadata": {},
   "source": [
    "Such a long review provided by a customer!"
   ]
  },
  {
   "cell_type": "code",
   "execution_count": 54,
   "metadata": {},
   "outputs": [
    {
     "data": {
      "text/plain": [
       "<matplotlib.axes._subplots.AxesSubplot at 0x2c03f71def0>"
      ]
     },
     "execution_count": 54,
     "metadata": {},
     "output_type": "execute_result"
    },
    {
     "data": {
      "image/png": "[encoded data removed]",
      "text/plain": [
       "<Figure size 936x576 with 1 Axes>"
      ]
     },
     "metadata": {},
     "output_type": "display_data"
    }
   ],
   "source": [
    "sns.distplot(df_clean['Word_Count']);"
   ]
  },
  {
   "cell_type": "markdown",
   "metadata": {},
   "source": [
    "Most of the content are 0 to 200 length"
   ]
  },
  {
   "cell_type": "markdown",
   "metadata": {},
   "source": [
    "### exploring Prices"
   ]
  },
  {
   "cell_type": "code",
   "execution_count": 33,
   "metadata": {},
   "outputs": [
    {
     "data": {
      "text/plain": [
       "$109 - $278*             5209\n",
       "$178 - $365*             4936\n",
       "$144 - $305*             4170\n",
       "$161 - $427*             3738\n",
       "$209 - $557*             3380\n",
       "                         ... \n",
       "$25                         1\n",
       "$63                         1\n",
       "$285 - $341*                1\n",
       "\" id=\"hotel_1090905\">       1\n",
       "$233                        1\n",
       "Name: Price, Length: 4507, dtype: int64"
      ]
     },
     "execution_count": 33,
     "metadata": {},
     "output_type": "execute_result"
    }
   ],
   "source": [
    "df_clean['Price'].value_counts()"
   ]
  },
  {
   "cell_type": "code",
   "execution_count": 42,
   "metadata": {},
   "outputs": [
    {
     "data": {
      "text/html": [
       "<div>\n",
       "<style scoped>\n",
       "    .dataframe tbody tr th:only-of-type {\n",
       "        vertical-align: middle;\n",
       "    }\n",
       "\n",
       "    .dataframe tbody tr th {\n",
       "        vertical-align: top;\n",
       "    }\n",
       "\n",
       "    .dataframe thead th {\n",
       "        text-align: right;\n",
       "    }\n",
       "</style>\n",
       "<table border=\"1\" class=\"dataframe\">\n",
       "  <thead>\n",
       "    <tr style=\"text-align: right;\">\n",
       "      <th></th>\n",
       "      <th>Title</th>\n",
       "      <th>Author</th>\n",
       "      <th>Content</th>\n",
       "      <th>Ratings-Service</th>\n",
       "      <th>Ratings-Cleanliness</th>\n",
       "      <th>Ratings-Overall</th>\n",
       "      <th>Ratings-Value</th>\n",
       "      <th>Ratings-Sleep Quality</th>\n",
       "      <th>Ratings-Rooms</th>\n",
       "      <th>Ratings-Location</th>\n",
       "      <th>Ratings-Check in / front desk</th>\n",
       "      <th>Name</th>\n",
       "      <th>Price</th>\n",
       "      <th>HotelID</th>\n",
       "      <th>Ratings-Business service</th>\n",
       "      <th>Clean_Content</th>\n",
       "      <th>Word_Count</th>\n",
       "    </tr>\n",
       "  </thead>\n",
       "  <tbody>\n",
       "    <tr>\n",
       "      <td>4379</td>\n",
       "      <td>NaN</td>\n",
       "      <td>rhymdunet</td>\n",
       "      <td>Une exp茅rience unique       vue depuis la chambre</td>\n",
       "      <td>5.0</td>\n",
       "      <td>5.0</td>\n",
       "      <td>5.0</td>\n",
       "      <td>5.0</td>\n",
       "      <td>NaN</td>\n",
       "      <td>5.0</td>\n",
       "      <td>5.0</td>\n",
       "      <td>4.0</td>\n",
       "      <td>NaN</td>\n",
       "      <td>Unkonwn</td>\n",
       "      <td>1005628</td>\n",
       "      <td>5.0</td>\n",
       "      <td>une exp rience unique vue depuis la chambre</td>\n",
       "      <td>8</td>\n",
       "    </tr>\n",
       "    <tr>\n",
       "      <td>12445</td>\n",
       "      <td>“modern but soul less”</td>\n",
       "      <td>david m</td>\n",
       "      <td>very modrn and stylish hotel,we atayed while p...</td>\n",
       "      <td>4.0</td>\n",
       "      <td>5.0</td>\n",
       "      <td>2.0</td>\n",
       "      <td>4.0</td>\n",
       "      <td>3.0</td>\n",
       "      <td>4.0</td>\n",
       "      <td>2.0</td>\n",
       "      <td>NaN</td>\n",
       "      <td>Barcelo Castellana Norte</td>\n",
       "      <td>$63 and up*</td>\n",
       "      <td>1008133</td>\n",
       "      <td>NaN</td>\n",
       "      <td>very modrn and stylish hotel we atayed while p...</td>\n",
       "      <td>78</td>\n",
       "    </tr>\n",
       "    <tr>\n",
       "      <td>12446</td>\n",
       "      <td>“Nice ultra modern hotel but a good way out of...</td>\n",
       "      <td>nickyg24</td>\n",
       "      <td>I stayed here on business as it was close to t...</td>\n",
       "      <td>4.0</td>\n",
       "      <td>4.0</td>\n",
       "      <td>3.0</td>\n",
       "      <td>3.0</td>\n",
       "      <td>3.0</td>\n",
       "      <td>3.0</td>\n",
       "      <td>2.0</td>\n",
       "      <td>NaN</td>\n",
       "      <td>Barcelo Castellana Norte</td>\n",
       "      <td>$63 and up*</td>\n",
       "      <td>1008133</td>\n",
       "      <td>NaN</td>\n",
       "      <td>i stayed here on business a it wa close to the...</td>\n",
       "      <td>68</td>\n",
       "    </tr>\n",
       "    <tr>\n",
       "      <td>12447</td>\n",
       "      <td>“Efficient but soulless business hotel”</td>\n",
       "      <td>restlessmover</td>\n",
       "      <td>Clean rooms that are comfortable enough but no...</td>\n",
       "      <td>3.0</td>\n",
       "      <td>5.0</td>\n",
       "      <td>3.0</td>\n",
       "      <td>2.0</td>\n",
       "      <td>2.0</td>\n",
       "      <td>3.0</td>\n",
       "      <td>4.0</td>\n",
       "      <td>NaN</td>\n",
       "      <td>Barcelo Castellana Norte</td>\n",
       "      <td>$63 and up*</td>\n",
       "      <td>1008133</td>\n",
       "      <td>NaN</td>\n",
       "      <td>clean room that are comfortable enough but not...</td>\n",
       "      <td>162</td>\n",
       "    </tr>\n",
       "    <tr>\n",
       "      <td>12448</td>\n",
       "      <td>“Nice Place for business traveler.”</td>\n",
       "      <td>georgeny01</td>\n",
       "      <td>Overall me and my wife went to Madrid on vacat...</td>\n",
       "      <td>4.0</td>\n",
       "      <td>4.0</td>\n",
       "      <td>2.0</td>\n",
       "      <td>4.0</td>\n",
       "      <td>4.0</td>\n",
       "      <td>3.0</td>\n",
       "      <td>2.0</td>\n",
       "      <td>NaN</td>\n",
       "      <td>Barcelo Castellana Norte</td>\n",
       "      <td>$63 and up*</td>\n",
       "      <td>1008133</td>\n",
       "      <td>NaN</td>\n",
       "      <td>overall me and my wife went to madrid on vacat...</td>\n",
       "      <td>117</td>\n",
       "    </tr>\n",
       "    <tr>\n",
       "      <td>...</td>\n",
       "      <td>...</td>\n",
       "      <td>...</td>\n",
       "      <td>...</td>\n",
       "      <td>...</td>\n",
       "      <td>...</td>\n",
       "      <td>...</td>\n",
       "      <td>...</td>\n",
       "      <td>...</td>\n",
       "      <td>...</td>\n",
       "      <td>...</td>\n",
       "      <td>...</td>\n",
       "      <td>...</td>\n",
       "      <td>...</td>\n",
       "      <td>...</td>\n",
       "      <td>...</td>\n",
       "      <td>...</td>\n",
       "      <td>...</td>\n",
       "    </tr>\n",
       "    <tr>\n",
       "      <td>538772</td>\n",
       "      <td>“Very disappointing”</td>\n",
       "      <td>JulieCLiverpool</td>\n",
       "      <td>Just arrived back from a three night stay at t...</td>\n",
       "      <td>3.0</td>\n",
       "      <td>2.0</td>\n",
       "      <td>2.0</td>\n",
       "      <td>2.0</td>\n",
       "      <td>NaN</td>\n",
       "      <td>2.0</td>\n",
       "      <td>NaN</td>\n",
       "      <td>NaN</td>\n",
       "      <td>Hotel Medium Cortezo</td>\n",
       "      <td>$83 and up*</td>\n",
       "      <td>250777</td>\n",
       "      <td>NaN</td>\n",
       "      <td>just arrived back from a three night stay at t...</td>\n",
       "      <td>207</td>\n",
       "    </tr>\n",
       "    <tr>\n",
       "      <td>538773</td>\n",
       "      <td>“Perfect location and value”</td>\n",
       "      <td>riskyman</td>\n",
       "      <td>I recently went to madrid and spent two days i...</td>\n",
       "      <td>4.0</td>\n",
       "      <td>4.0</td>\n",
       "      <td>4.0</td>\n",
       "      <td>5.0</td>\n",
       "      <td>NaN</td>\n",
       "      <td>4.0</td>\n",
       "      <td>NaN</td>\n",
       "      <td>NaN</td>\n",
       "      <td>Hotel Medium Cortezo</td>\n",
       "      <td>$83 and up*</td>\n",
       "      <td>250777</td>\n",
       "      <td>NaN</td>\n",
       "      <td>i recently went to madrid and spent two day in...</td>\n",
       "      <td>63</td>\n",
       "    </tr>\n",
       "    <tr>\n",
       "      <td>538774</td>\n",
       "      <td>“Excellent choice”</td>\n",
       "      <td>inkwave17</td>\n",
       "      <td>This was a really good hotel for a cost-consci...</td>\n",
       "      <td>NaN</td>\n",
       "      <td>NaN</td>\n",
       "      <td>4.0</td>\n",
       "      <td>NaN</td>\n",
       "      <td>NaN</td>\n",
       "      <td>NaN</td>\n",
       "      <td>NaN</td>\n",
       "      <td>NaN</td>\n",
       "      <td>Hotel Medium Cortezo</td>\n",
       "      <td>$83 and up*</td>\n",
       "      <td>250777</td>\n",
       "      <td>NaN</td>\n",
       "      <td>this wa a really good hotel for a cost conscio...</td>\n",
       "      <td>95</td>\n",
       "    </tr>\n",
       "    <tr>\n",
       "      <td>538775</td>\n",
       "      <td>“Great Location and reasonable price would sta...</td>\n",
       "      <td>belizeLady</td>\n",
       "      <td>I just returned from Madrid, Spain on Aug 9, 2...</td>\n",
       "      <td>NaN</td>\n",
       "      <td>NaN</td>\n",
       "      <td>4.0</td>\n",
       "      <td>NaN</td>\n",
       "      <td>NaN</td>\n",
       "      <td>NaN</td>\n",
       "      <td>NaN</td>\n",
       "      <td>NaN</td>\n",
       "      <td>Hotel Medium Cortezo</td>\n",
       "      <td>$83 and up*</td>\n",
       "      <td>250777</td>\n",
       "      <td>NaN</td>\n",
       "      <td>i just returned from madrid spain on aug i sta...</td>\n",
       "      <td>93</td>\n",
       "    </tr>\n",
       "    <tr>\n",
       "      <td>538776</td>\n",
       "      <td>“Big disappoinment”</td>\n",
       "      <td>A TripAdvisor Member</td>\n",
       "      <td>We just returned from a 3 + week in Spain. Hot...</td>\n",
       "      <td>NaN</td>\n",
       "      <td>NaN</td>\n",
       "      <td>2.0</td>\n",
       "      <td>NaN</td>\n",
       "      <td>NaN</td>\n",
       "      <td>NaN</td>\n",
       "      <td>NaN</td>\n",
       "      <td>NaN</td>\n",
       "      <td>Hotel Medium Cortezo</td>\n",
       "      <td>$83 and up*</td>\n",
       "      <td>250777</td>\n",
       "      <td>NaN</td>\n",
       "      <td>we just returned from a week in spain hotel co...</td>\n",
       "      <td>103</td>\n",
       "    </tr>\n",
       "  </tbody>\n",
       "</table>\n",
       "<p>30566 rows × 17 columns</p>\n",
       "</div>"
      ],
      "text/plain": [
       "                                                    Title  \\\n",
       "4379                                                  NaN   \n",
       "12445                              “modern but soul less”   \n",
       "12446   “Nice ultra modern hotel but a good way out of...   \n",
       "12447             “Efficient but soulless business hotel”   \n",
       "12448                 “Nice Place for business traveler.”   \n",
       "...                                                   ...   \n",
       "538772                               “Very disappointing”   \n",
       "538773                       “Perfect location and value”   \n",
       "538774                                 “Excellent choice”   \n",
       "538775  “Great Location and reasonable price would sta...   \n",
       "538776                                “Big disappoinment”   \n",
       "\n",
       "                      Author  \\\n",
       "4379               rhymdunet   \n",
       "12445                david m   \n",
       "12446               nickyg24   \n",
       "12447          restlessmover   \n",
       "12448             georgeny01   \n",
       "...                      ...   \n",
       "538772       JulieCLiverpool   \n",
       "538773              riskyman   \n",
       "538774             inkwave17   \n",
       "538775            belizeLady   \n",
       "538776  A TripAdvisor Member   \n",
       "\n",
       "                                                  Content  Ratings-Service  \\\n",
       "4379    Une exp茅rience unique       vue depuis la chambre              5.0   \n",
       "12445   very modrn and stylish hotel,we atayed while p...              4.0   \n",
       "12446   I stayed here on business as it was close to t...              4.0   \n",
       "12447   Clean rooms that are comfortable enough but no...              3.0   \n",
       "12448   Overall me and my wife went to Madrid on vacat...              4.0   \n",
       "...                                                   ...              ...   \n",
       "538772  Just arrived back from a three night stay at t...              3.0   \n",
       "538773  I recently went to madrid and spent two days i...              4.0   \n",
       "538774  This was a really good hotel for a cost-consci...              NaN   \n",
       "538775  I just returned from Madrid, Spain on Aug 9, 2...              NaN   \n",
       "538776  We just returned from a 3 + week in Spain. Hot...              NaN   \n",
       "\n",
       "        Ratings-Cleanliness  Ratings-Overall  Ratings-Value  \\\n",
       "4379                    5.0              5.0            5.0   \n",
       "12445                   5.0              2.0            4.0   \n",
       "12446                   4.0              3.0            3.0   \n",
       "12447                   5.0              3.0            2.0   \n",
       "12448                   4.0              2.0            4.0   \n",
       "...                     ...              ...            ...   \n",
       "538772                  2.0              2.0            2.0   \n",
       "538773                  4.0              4.0            5.0   \n",
       "538774                  NaN              4.0            NaN   \n",
       "538775                  NaN              4.0            NaN   \n",
       "538776                  NaN              2.0            NaN   \n",
       "\n",
       "        Ratings-Sleep Quality  Ratings-Rooms  Ratings-Location  \\\n",
       "4379                      NaN            5.0               5.0   \n",
       "12445                     3.0            4.0               2.0   \n",
       "12446                     3.0            3.0               2.0   \n",
       "12447                     2.0            3.0               4.0   \n",
       "12448                     4.0            3.0               2.0   \n",
       "...                       ...            ...               ...   \n",
       "538772                    NaN            2.0               NaN   \n",
       "538773                    NaN            4.0               NaN   \n",
       "538774                    NaN            NaN               NaN   \n",
       "538775                    NaN            NaN               NaN   \n",
       "538776                    NaN            NaN               NaN   \n",
       "\n",
       "        Ratings-Check in / front desk                      Name        Price  \\\n",
       "4379                              4.0                       NaN      Unkonwn   \n",
       "12445                             NaN  Barcelo Castellana Norte  $63 and up*   \n",
       "12446                             NaN  Barcelo Castellana Norte  $63 and up*   \n",
       "12447                             NaN  Barcelo Castellana Norte  $63 and up*   \n",
       "12448                             NaN  Barcelo Castellana Norte  $63 and up*   \n",
       "...                               ...                       ...          ...   \n",
       "538772                            NaN      Hotel Medium Cortezo  $83 and up*   \n",
       "538773                            NaN      Hotel Medium Cortezo  $83 and up*   \n",
       "538774                            NaN      Hotel Medium Cortezo  $83 and up*   \n",
       "538775                            NaN      Hotel Medium Cortezo  $83 and up*   \n",
       "538776                            NaN      Hotel Medium Cortezo  $83 and up*   \n",
       "\n",
       "        HotelID  Ratings-Business service  \\\n",
       "4379    1005628                       5.0   \n",
       "12445   1008133                       NaN   \n",
       "12446   1008133                       NaN   \n",
       "12447   1008133                       NaN   \n",
       "12448   1008133                       NaN   \n",
       "...         ...                       ...   \n",
       "538772   250777                       NaN   \n",
       "538773   250777                       NaN   \n",
       "538774   250777                       NaN   \n",
       "538775   250777                       NaN   \n",
       "538776   250777                       NaN   \n",
       "\n",
       "                                            Clean_Content  Word_Count  \n",
       "4379          une exp rience unique vue depuis la chambre           8  \n",
       "12445   very modrn and stylish hotel we atayed while p...          78  \n",
       "12446   i stayed here on business a it wa close to the...          68  \n",
       "12447   clean room that are comfortable enough but not...         162  \n",
       "12448   overall me and my wife went to madrid on vacat...         117  \n",
       "...                                                   ...         ...  \n",
       "538772  just arrived back from a three night stay at t...         207  \n",
       "538773  i recently went to madrid and spent two day in...          63  \n",
       "538774  this wa a really good hotel for a cost conscio...          95  \n",
       "538775  i just returned from madrid spain on aug i sta...          93  \n",
       "538776  we just returned from a week in spain hotel co...         103  \n",
       "\n",
       "[30566 rows x 17 columns]"
      ]
     },
     "execution_count": 42,
     "metadata": {},
     "output_type": "execute_result"
    }
   ],
   "source": [
    "df_clean[df_clean['Price'].str.contains('[a-zA-Z]')]"
   ]
  },
  {
   "cell_type": "markdown",
   "metadata": {},
   "source": [
    "Price column will require some clean up if we want to use it"
   ]
  },
  {
   "cell_type": "markdown",
   "metadata": {},
   "source": [
    "### Recommendation"
   ]
  },
  {
   "cell_type": "markdown",
   "metadata": {},
   "source": [
    "Few methods for recommending hotels:\n",
    "    \n",
    "1. Recommend top rated hotels. (problem: will always recommend same hotels irrespective of the input hotel. There's no learning involved)\n",
    "2. Recommend based on pricing i.e. recommend top hotels of similar price. (still not very smart, as there are a lot of features other than price)\n",
    "3. Recommend based on users -> if some users has rated a hotel high, recommend other hotels which those users has rated high. (might not work well as users are not unique here, a lot of users are \"A TripAdvisor Member\")\n",
    "4. Recommend based on content/review similarity, which means recommend those hotels which have similar reviews by customers as that of input hotel. So if a user likes a hotel, there is a lot of chances that this user will also like other hotels with similar reviews. (we will use this technique)"
   ]
  },
  {
   "cell_type": "code",
   "execution_count": 135,
   "metadata": {},
   "outputs": [
    {
     "data": {
      "text/plain": [
       "A TripAdvisor Member                         41018\n",
       "lass=                                         6873\n",
       "Posted by an Accorhotels.com traveler         1541\n",
       "Posted by a hotelsgrandparis.com traveler      178\n",
       "Posted by an Easytobook.com traveler           156\n",
       "Name: Author, dtype: int64"
      ]
     },
     "execution_count": 135,
     "metadata": {},
     "output_type": "execute_result"
    }
   ],
   "source": [
    "df_clean['Author'].value_counts().head() ## a lot of users are just \"A TripAdvisor Member\""
   ]
  },
  {
   "cell_type": "markdown",
   "metadata": {},
   "source": [
    "### Recommend based on content/review similarity"
   ]
  },
  {
   "cell_type": "code",
   "execution_count": 70,
   "metadata": {},
   "outputs": [
    {
     "data": {
      "text/html": [
       "<div>\n",
       "<style scoped>\n",
       "    .dataframe tbody tr th:only-of-type {\n",
       "        vertical-align: middle;\n",
       "    }\n",
       "\n",
       "    .dataframe tbody tr th {\n",
       "        vertical-align: top;\n",
       "    }\n",
       "\n",
       "    .dataframe thead th {\n",
       "        text-align: right;\n",
       "    }\n",
       "</style>\n",
       "<table border=\"1\" class=\"dataframe\">\n",
       "  <thead>\n",
       "    <tr style=\"text-align: right;\">\n",
       "      <th></th>\n",
       "      <th>Title</th>\n",
       "      <th>Author</th>\n",
       "      <th>Content</th>\n",
       "      <th>Ratings-Service</th>\n",
       "      <th>Ratings-Cleanliness</th>\n",
       "      <th>Ratings-Overall</th>\n",
       "      <th>Ratings-Value</th>\n",
       "      <th>Ratings-Sleep Quality</th>\n",
       "      <th>Ratings-Rooms</th>\n",
       "      <th>Ratings-Location</th>\n",
       "      <th>Ratings-Check in / front desk</th>\n",
       "      <th>Name</th>\n",
       "      <th>Price</th>\n",
       "      <th>HotelID</th>\n",
       "      <th>Ratings-Business service</th>\n",
       "      <th>Clean_Content</th>\n",
       "      <th>Word_Count</th>\n",
       "    </tr>\n",
       "  </thead>\n",
       "  <tbody>\n",
       "    <tr>\n",
       "      <td>0</td>\n",
       "      <td>“Great place and location”</td>\n",
       "      <td>Nadine R</td>\n",
       "      <td>Usually stay near the airport, but this trip w...</td>\n",
       "      <td>5.0</td>\n",
       "      <td>5.0</td>\n",
       "      <td>5.0</td>\n",
       "      <td>5.0</td>\n",
       "      <td>5.0</td>\n",
       "      <td>5.0</td>\n",
       "      <td>5.0</td>\n",
       "      <td>NaN</td>\n",
       "      <td>Hilton Garden Inn Baltimore White Marsh</td>\n",
       "      <td>$135 - $193*</td>\n",
       "      <td>100407</td>\n",
       "      <td>NaN</td>\n",
       "      <td>usually stay near the airport but this trip we...</td>\n",
       "      <td>103</td>\n",
       "    </tr>\n",
       "    <tr>\n",
       "      <td>1</td>\n",
       "      <td>“Nice stay, nice surroundings”</td>\n",
       "      <td>blt3116</td>\n",
       "      <td>Stayed at this Hilton for 2 nights. It was lik...</td>\n",
       "      <td>4.0</td>\n",
       "      <td>4.0</td>\n",
       "      <td>4.0</td>\n",
       "      <td>4.0</td>\n",
       "      <td>4.0</td>\n",
       "      <td>4.0</td>\n",
       "      <td>5.0</td>\n",
       "      <td>NaN</td>\n",
       "      <td>Hilton Garden Inn Baltimore White Marsh</td>\n",
       "      <td>$135 - $193*</td>\n",
       "      <td>100407</td>\n",
       "      <td>NaN</td>\n",
       "      <td>stayed at this hilton for night it wa like mos...</td>\n",
       "      <td>49</td>\n",
       "    </tr>\n",
       "    <tr>\n",
       "      <td>2</td>\n",
       "      <td>“Perfect for an overnight just off I-95”</td>\n",
       "      <td>ExSpec5</td>\n",
       "      <td>Stayed there one night, December 16, on the wa...</td>\n",
       "      <td>5.0</td>\n",
       "      <td>5.0</td>\n",
       "      <td>4.0</td>\n",
       "      <td>3.0</td>\n",
       "      <td>3.0</td>\n",
       "      <td>5.0</td>\n",
       "      <td>5.0</td>\n",
       "      <td>NaN</td>\n",
       "      <td>Hilton Garden Inn Baltimore White Marsh</td>\n",
       "      <td>$135 - $193*</td>\n",
       "      <td>100407</td>\n",
       "      <td>NaN</td>\n",
       "      <td>stayed there one night december on the way fro...</td>\n",
       "      <td>80</td>\n",
       "    </tr>\n",
       "    <tr>\n",
       "      <td>3</td>\n",
       "      <td>“Great Hotel”</td>\n",
       "      <td>kevinlynch3</td>\n",
       "      <td>I just stayed here last weekend and have alrea...</td>\n",
       "      <td>5.0</td>\n",
       "      <td>5.0</td>\n",
       "      <td>5.0</td>\n",
       "      <td>4.0</td>\n",
       "      <td>5.0</td>\n",
       "      <td>5.0</td>\n",
       "      <td>5.0</td>\n",
       "      <td>NaN</td>\n",
       "      <td>Hilton Garden Inn Baltimore White Marsh</td>\n",
       "      <td>$135 - $193*</td>\n",
       "      <td>100407</td>\n",
       "      <td>NaN</td>\n",
       "      <td>i just stayed here last weekend and have alrea...</td>\n",
       "      <td>220</td>\n",
       "    </tr>\n",
       "    <tr>\n",
       "      <td>4</td>\n",
       "      <td>“good room for handicapped person”</td>\n",
       "      <td>nobumponalog</td>\n",
       "      <td>My mother who is 90 and I stayed one night on ...</td>\n",
       "      <td>5.0</td>\n",
       "      <td>5.0</td>\n",
       "      <td>5.0</td>\n",
       "      <td>4.0</td>\n",
       "      <td>5.0</td>\n",
       "      <td>5.0</td>\n",
       "      <td>5.0</td>\n",
       "      <td>NaN</td>\n",
       "      <td>Hilton Garden Inn Baltimore White Marsh</td>\n",
       "      <td>$135 - $193*</td>\n",
       "      <td>100407</td>\n",
       "      <td>NaN</td>\n",
       "      <td>my mother who is and i stayed one night on our...</td>\n",
       "      <td>83</td>\n",
       "    </tr>\n",
       "  </tbody>\n",
       "</table>\n",
       "</div>"
      ],
      "text/plain": [
       "                                      Title        Author  \\\n",
       "0                “Great place and location”      Nadine R   \n",
       "1            “Nice stay, nice surroundings”       blt3116   \n",
       "2  “Perfect for an overnight just off I-95”       ExSpec5   \n",
       "3                             “Great Hotel”   kevinlynch3   \n",
       "4        “good room for handicapped person”  nobumponalog   \n",
       "\n",
       "                                             Content  Ratings-Service  \\\n",
       "0  Usually stay near the airport, but this trip w...              5.0   \n",
       "1  Stayed at this Hilton for 2 nights. It was lik...              4.0   \n",
       "2  Stayed there one night, December 16, on the wa...              5.0   \n",
       "3  I just stayed here last weekend and have alrea...              5.0   \n",
       "4  My mother who is 90 and I stayed one night on ...              5.0   \n",
       "\n",
       "   Ratings-Cleanliness  Ratings-Overall  Ratings-Value  Ratings-Sleep Quality  \\\n",
       "0                  5.0              5.0            5.0                    5.0   \n",
       "1                  4.0              4.0            4.0                    4.0   \n",
       "2                  5.0              4.0            3.0                    3.0   \n",
       "3                  5.0              5.0            4.0                    5.0   \n",
       "4                  5.0              5.0            4.0                    5.0   \n",
       "\n",
       "   Ratings-Rooms  Ratings-Location  Ratings-Check in / front desk  \\\n",
       "0            5.0               5.0                            NaN   \n",
       "1            4.0               5.0                            NaN   \n",
       "2            5.0               5.0                            NaN   \n",
       "3            5.0               5.0                            NaN   \n",
       "4            5.0               5.0                            NaN   \n",
       "\n",
       "                                      Name         Price  HotelID  \\\n",
       "0  Hilton Garden Inn Baltimore White Marsh  $135 - $193*   100407   \n",
       "1  Hilton Garden Inn Baltimore White Marsh  $135 - $193*   100407   \n",
       "2  Hilton Garden Inn Baltimore White Marsh  $135 - $193*   100407   \n",
       "3  Hilton Garden Inn Baltimore White Marsh  $135 - $193*   100407   \n",
       "4  Hilton Garden Inn Baltimore White Marsh  $135 - $193*   100407   \n",
       "\n",
       "   Ratings-Business service  \\\n",
       "0                       NaN   \n",
       "1                       NaN   \n",
       "2                       NaN   \n",
       "3                       NaN   \n",
       "4                       NaN   \n",
       "\n",
       "                                       Clean_Content  Word_Count  \n",
       "0  usually stay near the airport but this trip we...         103  \n",
       "1  stayed at this hilton for night it wa like mos...          49  \n",
       "2  stayed there one night december on the way fro...          80  \n",
       "3  i just stayed here last weekend and have alrea...         220  \n",
       "4  my mother who is and i stayed one night on our...          83  "
      ]
     },
     "execution_count": 70,
     "metadata": {},
     "output_type": "execute_result"
    }
   ],
   "source": [
    "df_clean.head()"
   ]
  },
  {
   "cell_type": "markdown",
   "metadata": {},
   "source": [
    "#### NOTE: we don't want to recommend based on negative reviews. So removing reviews with Ratings-Overall less than 3"
   ]
  },
  {
   "cell_type": "code",
   "execution_count": 83,
   "metadata": {},
   "outputs": [],
   "source": [
    "tempA = df_clean[df_clean['Ratings-Overall'] > 2]"
   ]
  },
  {
   "cell_type": "markdown",
   "metadata": {},
   "source": [
    "#### combining the content/reviews for each hotel"
   ]
  },
  {
   "cell_type": "code",
   "execution_count": 84,
   "metadata": {},
   "outputs": [],
   "source": [
    "df_recommend = tempA.groupby('HotelID')['Clean_Content'].apply(' '.join).reset_index()"
   ]
  },
  {
   "cell_type": "code",
   "execution_count": 85,
   "metadata": {},
   "outputs": [],
   "source": [
    "tempB = tempA.groupby(by='HotelID', as_index=False)['Ratings-Overall'].agg({'Ratings-Overall': 'mean', 'Price': 'count'}).rename(columns={'Price': 'Count'})"
   ]
  },
  {
   "cell_type": "code",
   "execution_count": 88,
   "metadata": {},
   "outputs": [],
   "source": [
    "df_recommend = pd.merge(df_recommend, tempB, on='HotelID').reset_index(drop=True)"
   ]
  },
  {
   "cell_type": "code",
   "execution_count": 89,
   "metadata": {},
   "outputs": [
    {
     "data": {
      "text/html": [
       "<div>\n",
       "<style scoped>\n",
       "    .dataframe tbody tr th:only-of-type {\n",
       "        vertical-align: middle;\n",
       "    }\n",
       "\n",
       "    .dataframe tbody tr th {\n",
       "        vertical-align: top;\n",
       "    }\n",
       "\n",
       "    .dataframe thead th {\n",
       "        text-align: right;\n",
       "    }\n",
       "</style>\n",
       "<table border=\"1\" class=\"dataframe\">\n",
       "  <thead>\n",
       "    <tr style=\"text-align: right;\">\n",
       "      <th></th>\n",
       "      <th>HotelID</th>\n",
       "      <th>Clean_Content</th>\n",
       "      <th>Ratings-Overall</th>\n",
       "      <th>Count</th>\n",
       "    </tr>\n",
       "  </thead>\n",
       "  <tbody>\n",
       "    <tr>\n",
       "      <td>0</td>\n",
       "      <td>100407</td>\n",
       "      <td>usually stay near the airport but this trip we...</td>\n",
       "      <td>4.542857</td>\n",
       "      <td>35</td>\n",
       "    </tr>\n",
       "    <tr>\n",
       "      <td>1</td>\n",
       "      <td>100504</td>\n",
       "      <td>great location large clean room and very comfo...</td>\n",
       "      <td>4.575980</td>\n",
       "      <td>408</td>\n",
       "    </tr>\n",
       "    <tr>\n",
       "      <td>2</td>\n",
       "      <td>100505</td>\n",
       "      <td>we spent three night at the warwick last week ...</td>\n",
       "      <td>4.102128</td>\n",
       "      <td>235</td>\n",
       "    </tr>\n",
       "    <tr>\n",
       "      <td>3</td>\n",
       "      <td>100506</td>\n",
       "      <td>we stayed in downtown hotel seattle for two ni...</td>\n",
       "      <td>3.454545</td>\n",
       "      <td>11</td>\n",
       "    </tr>\n",
       "    <tr>\n",
       "      <td>4</td>\n",
       "      <td>100507</td>\n",
       "      <td>i checked with tripadvisor before booking at t...</td>\n",
       "      <td>4.753846</td>\n",
       "      <td>520</td>\n",
       "    </tr>\n",
       "    <tr>\n",
       "      <td>...</td>\n",
       "      <td>...</td>\n",
       "      <td>...</td>\n",
       "      <td>...</td>\n",
       "      <td>...</td>\n",
       "    </tr>\n",
       "    <tr>\n",
       "      <td>6393</td>\n",
       "      <td>2515688</td>\n",
       "      <td>michael doris wei stayed at the marina inn ove...</td>\n",
       "      <td>4.118280</td>\n",
       "      <td>93</td>\n",
       "    </tr>\n",
       "    <tr>\n",
       "      <td>6394</td>\n",
       "      <td>2515689</td>\n",
       "      <td>stayed here while i wa in town for the sema sh...</td>\n",
       "      <td>4.351648</td>\n",
       "      <td>91</td>\n",
       "    </tr>\n",
       "    <tr>\n",
       "      <td>6395</td>\n",
       "      <td>2515690</td>\n",
       "      <td>me and my colleague were here for one week ove...</td>\n",
       "      <td>3.940000</td>\n",
       "      <td>100</td>\n",
       "    </tr>\n",
       "    <tr>\n",
       "      <td>6396</td>\n",
       "      <td>2515691</td>\n",
       "      <td>stayed at the hampton inn for night and having...</td>\n",
       "      <td>4.269841</td>\n",
       "      <td>63</td>\n",
       "    </tr>\n",
       "    <tr>\n",
       "      <td>6397</td>\n",
       "      <td>2515692</td>\n",
       "      <td>i have very mixed feeling about this hotel so ...</td>\n",
       "      <td>4.158273</td>\n",
       "      <td>139</td>\n",
       "    </tr>\n",
       "  </tbody>\n",
       "</table>\n",
       "<p>6398 rows × 4 columns</p>\n",
       "</div>"
      ],
      "text/plain": [
       "      HotelID                                      Clean_Content  \\\n",
       "0      100407  usually stay near the airport but this trip we...   \n",
       "1      100504  great location large clean room and very comfo...   \n",
       "2      100505  we spent three night at the warwick last week ...   \n",
       "3      100506  we stayed in downtown hotel seattle for two ni...   \n",
       "4      100507  i checked with tripadvisor before booking at t...   \n",
       "...       ...                                                ...   \n",
       "6393  2515688  michael doris wei stayed at the marina inn ove...   \n",
       "6394  2515689  stayed here while i wa in town for the sema sh...   \n",
       "6395  2515690  me and my colleague were here for one week ove...   \n",
       "6396  2515691  stayed at the hampton inn for night and having...   \n",
       "6397  2515692  i have very mixed feeling about this hotel so ...   \n",
       "\n",
       "      Ratings-Overall  Count  \n",
       "0            4.542857     35  \n",
       "1            4.575980    408  \n",
       "2            4.102128    235  \n",
       "3            3.454545     11  \n",
       "4            4.753846    520  \n",
       "...               ...    ...  \n",
       "6393         4.118280     93  \n",
       "6394         4.351648     91  \n",
       "6395         3.940000    100  \n",
       "6396         4.269841     63  \n",
       "6397         4.158273    139  \n",
       "\n",
       "[6398 rows x 4 columns]"
      ]
     },
     "execution_count": 89,
     "metadata": {},
     "output_type": "execute_result"
    }
   ],
   "source": [
    "df_recommend"
   ]
  },
  {
   "cell_type": "markdown",
   "metadata": {},
   "source": [
    "##### stopwords removal"
   ]
  },
  {
   "cell_type": "code",
   "execution_count": 92,
   "metadata": {
    "scrolled": true
   },
   "outputs": [
    {
     "name": "stderr",
     "output_type": "stream",
     "text": [
      "100%|██████████████████████████████████████| 6398/6398 [04:11<00:00, 25.40it/s]\n"
     ]
    }
   ],
   "source": [
    "df_recommend['Clean_Content'] = df_recommend['Clean_Content'].progress_apply(lambda x: ' '.join([word for word in x.split() if word not in (stop)]))"
   ]
  },
  {
   "cell_type": "code",
   "execution_count": 93,
   "metadata": {},
   "outputs": [
    {
     "data": {
      "text/html": [
       "<div>\n",
       "<style scoped>\n",
       "    .dataframe tbody tr th:only-of-type {\n",
       "        vertical-align: middle;\n",
       "    }\n",
       "\n",
       "    .dataframe tbody tr th {\n",
       "        vertical-align: top;\n",
       "    }\n",
       "\n",
       "    .dataframe thead th {\n",
       "        text-align: right;\n",
       "    }\n",
       "</style>\n",
       "<table border=\"1\" class=\"dataframe\">\n",
       "  <thead>\n",
       "    <tr style=\"text-align: right;\">\n",
       "      <th></th>\n",
       "      <th>HotelID</th>\n",
       "      <th>Clean_Content</th>\n",
       "      <th>Ratings-Overall</th>\n",
       "      <th>Count</th>\n",
       "    </tr>\n",
       "  </thead>\n",
       "  <tbody>\n",
       "    <tr>\n",
       "      <td>0</td>\n",
       "      <td>100407</td>\n",
       "      <td>usually stay near airport trip business north ...</td>\n",
       "      <td>4.542857</td>\n",
       "      <td>35</td>\n",
       "    </tr>\n",
       "    <tr>\n",
       "      <td>1</td>\n",
       "      <td>100504</td>\n",
       "      <td>great location large clean room comfortable be...</td>\n",
       "      <td>4.575980</td>\n",
       "      <td>408</td>\n",
       "    </tr>\n",
       "    <tr>\n",
       "      <td>2</td>\n",
       "      <td>100505</td>\n",
       "      <td>spent three night warwick last week check wa f...</td>\n",
       "      <td>4.102128</td>\n",
       "      <td>235</td>\n",
       "    </tr>\n",
       "    <tr>\n",
       "      <td>3</td>\n",
       "      <td>100506</td>\n",
       "      <td>stayed downtown hotel seattle two night bed co...</td>\n",
       "      <td>3.454545</td>\n",
       "      <td>11</td>\n",
       "    </tr>\n",
       "    <tr>\n",
       "      <td>4</td>\n",
       "      <td>100507</td>\n",
       "      <td>checked tripadvisor booking inn market like ev...</td>\n",
       "      <td>4.753846</td>\n",
       "      <td>520</td>\n",
       "    </tr>\n",
       "    <tr>\n",
       "      <td>...</td>\n",
       "      <td>...</td>\n",
       "      <td>...</td>\n",
       "      <td>...</td>\n",
       "      <td>...</td>\n",
       "    </tr>\n",
       "    <tr>\n",
       "      <td>6393</td>\n",
       "      <td>2515688</td>\n",
       "      <td>michael doris wei stayed marina inn easter wee...</td>\n",
       "      <td>4.118280</td>\n",
       "      <td>93</td>\n",
       "    </tr>\n",
       "    <tr>\n",
       "      <td>6394</td>\n",
       "      <td>2515689</td>\n",
       "      <td>stayed wa town sema show offered decent place ...</td>\n",
       "      <td>4.351648</td>\n",
       "      <td>91</td>\n",
       "    </tr>\n",
       "    <tr>\n",
       "      <td>6395</td>\n",
       "      <td>2515690</td>\n",
       "      <td>colleague one week overall stay wa pleasant ho...</td>\n",
       "      <td>3.940000</td>\n",
       "      <td>100</td>\n",
       "    </tr>\n",
       "    <tr>\n",
       "      <td>6396</td>\n",
       "      <td>2515691</td>\n",
       "      <td>stayed hampton inn night read review wa bit wa...</td>\n",
       "      <td>4.269841</td>\n",
       "      <td>63</td>\n",
       "    </tr>\n",
       "    <tr>\n",
       "      <td>6397</td>\n",
       "      <td>2515692</td>\n",
       "      <td>mixed feeling hotel rated mid range found clea...</td>\n",
       "      <td>4.158273</td>\n",
       "      <td>139</td>\n",
       "    </tr>\n",
       "  </tbody>\n",
       "</table>\n",
       "<p>6398 rows × 4 columns</p>\n",
       "</div>"
      ],
      "text/plain": [
       "      HotelID                                      Clean_Content  \\\n",
       "0      100407  usually stay near airport trip business north ...   \n",
       "1      100504  great location large clean room comfortable be...   \n",
       "2      100505  spent three night warwick last week check wa f...   \n",
       "3      100506  stayed downtown hotel seattle two night bed co...   \n",
       "4      100507  checked tripadvisor booking inn market like ev...   \n",
       "...       ...                                                ...   \n",
       "6393  2515688  michael doris wei stayed marina inn easter wee...   \n",
       "6394  2515689  stayed wa town sema show offered decent place ...   \n",
       "6395  2515690  colleague one week overall stay wa pleasant ho...   \n",
       "6396  2515691  stayed hampton inn night read review wa bit wa...   \n",
       "6397  2515692  mixed feeling hotel rated mid range found clea...   \n",
       "\n",
       "      Ratings-Overall  Count  \n",
       "0            4.542857     35  \n",
       "1            4.575980    408  \n",
       "2            4.102128    235  \n",
       "3            3.454545     11  \n",
       "4            4.753846    520  \n",
       "...               ...    ...  \n",
       "6393         4.118280     93  \n",
       "6394         4.351648     91  \n",
       "6395         3.940000    100  \n",
       "6396         4.269841     63  \n",
       "6397         4.158273    139  \n",
       "\n",
       "[6398 rows x 4 columns]"
      ]
     },
     "execution_count": 93,
     "metadata": {},
     "output_type": "execute_result"
    }
   ],
   "source": [
    "df_recommend"
   ]
  },
  {
   "cell_type": "markdown",
   "metadata": {},
   "source": [
    "#### set hotelID as index of dataframe"
   ]
  },
  {
   "cell_type": "code",
   "execution_count": 97,
   "metadata": {},
   "outputs": [],
   "source": [
    "df_recommend.set_index('HotelID', inplace = True)"
   ]
  },
  {
   "cell_type": "code",
   "execution_count": 100,
   "metadata": {},
   "outputs": [],
   "source": [
    "indices = pd.Series(df_recommend.index)"
   ]
  },
  {
   "cell_type": "markdown",
   "metadata": {},
   "source": [
    "#### vectorize clean_content using tf-idf"
   ]
  },
  {
   "cell_type": "code",
   "execution_count": 98,
   "metadata": {},
   "outputs": [],
   "source": [
    "tfidf = TfidfVectorizer(min_df=5)\n",
    "tfidf_matrix = tfidf.fit_transform(df_recommend['Clean_Content'])"
   ]
  },
  {
   "cell_type": "markdown",
   "metadata": {},
   "source": [
    "#### compute cosine_similarity of every content with every content"
   ]
  },
  {
   "cell_type": "code",
   "execution_count": 99,
   "metadata": {},
   "outputs": [],
   "source": [
    "cosine_similarities = cosine_similarity(tfidf_matrix, tfidf_matrix)"
   ]
  },
  {
   "cell_type": "markdown",
   "metadata": {},
   "source": [
    "### get top 10 recommendations based on cosine_similarity of the content/reviews"
   ]
  },
  {
   "cell_type": "code",
   "execution_count": 154,
   "metadata": {},
   "outputs": [],
   "source": [
    "def recommendations(ID, cosine_similarities=cosine_similarities):\n",
    "    \n",
    "    recommended_hotels = list()\n",
    "    \n",
    "    # get the index of the hotel with ID\n",
    "    idx = indices[indices == ID].index[0]\n",
    "\n",
    "    # create a Series with the similarity scores in descending order\n",
    "    score_series = pd.Series(cosine_similarities[idx]).sort_values(ascending = False)\n",
    "\n",
    "    # get the indexes of the 10 most similar hotels except itself\n",
    "    top_10_indexes = list(score_series.iloc[1:11].index)\n",
    "    \n",
    "    # populate the list with the IDs of the top 10 matching hotels\n",
    "    for i in top_10_indexes:\n",
    "        recommended_hotels.append(list(df_recommend.index)[i])\n",
    "        \n",
    "    return ID, recommended_hotels ## return input HotelID, list of recommended_hotel_IDs"
   ]
  },
  {
   "cell_type": "code",
   "execution_count": 164,
   "metadata": {},
   "outputs": [
    {
     "data": {
      "text/plain": [
       "(224642,\n",
       " [100407,\n",
       "  1821731,\n",
       "  1164933,\n",
       "  119732,\n",
       "  1147514,\n",
       "  2515411,\n",
       "  2515612,\n",
       "  1436140,\n",
       "  115483,\n",
       "  1007816])"
      ]
     },
     "execution_count": 164,
     "metadata": {},
     "output_type": "execute_result"
    }
   ],
   "source": [
    "recommendations(224642)"
   ]
  },
  {
   "cell_type": "markdown",
   "metadata": {},
   "source": [
    "#### NOTE: Since every hotel does not have a Name, so I have used HotelID, as every Hotel has an HotelID. From that, we can get the name (if the hotel has one in the data)"
   ]
  },
  {
   "cell_type": "markdown",
   "metadata": {},
   "source": [
    "##### get name from HotelID"
   ]
  },
  {
   "cell_type": "code",
   "execution_count": 114,
   "metadata": {},
   "outputs": [],
   "source": [
    "df_name_id = df_clean[['HotelID', 'Name']]\n",
    "df_name_id = df_name_id.drop_duplicates().reset_index(drop=True)\n",
    "df_name_id.set_index('HotelID', inplace=True)"
   ]
  },
  {
   "cell_type": "code",
   "execution_count": 162,
   "metadata": {},
   "outputs": [],
   "source": [
    "def get_name_from_hotelID(IDs):\n",
    "    (input_ID, recommended_IDs) = IDs\n",
    "    print(\"Input Hotel: \", df_name_id[df_name_id.index == input_ID]['Name'].item())\n",
    "    print(\"\\nRecommened Hotels:\")\n",
    "    for i in recommended_IDs:\n",
    "        print(df_name_id[df_name_id.index == i]['Name'].item())"
   ]
  },
  {
   "cell_type": "markdown",
   "metadata": {},
   "source": [
    "### Function to get recommended Hotels"
   ]
  },
  {
   "cell_type": "code",
   "execution_count": 165,
   "metadata": {},
   "outputs": [
    {
     "name": "stdout",
     "output_type": "stream",
     "text": [
      "Input Hotel:  Hampton Inn Baltimore / White Marsh\n",
      "\n",
      "Recommened Hotels:\n",
      "Hilton Garden Inn Baltimore White Marsh\n",
      "Sleep Inn & Suites Downtown Inner Harbor\n",
      "Fairfield Inn & Suites Baltimore White Marsh\n",
      "Hampton Inn San Diego Airport / SeaWorld\n",
      "Hilton Baltimore\n",
      "Hampton Inn San Diego Airport / SeaWorld\n",
      "Hampton Inn San Diego Airport / SeaWorld\n",
      "Quality Inn Downtown Baltimore\n",
      "Hampton Inn & Suites Phoenix Airport South\n",
      "Hilton Garden Inn Baltimore Inner Harbor\n"
     ]
    }
   ],
   "source": [
    "get_name_from_hotelID(recommendations(224642)) ## Enter input HotelID"
   ]
  },
  {
   "cell_type": "code",
   "execution_count": 166,
   "metadata": {},
   "outputs": [
    {
     "data": {
      "text/plain": [
       "(224642,\n",
       " [100407,\n",
       "  1821731,\n",
       "  1164933,\n",
       "  119732,\n",
       "  1147514,\n",
       "  2515411,\n",
       "  2515612,\n",
       "  1436140,\n",
       "  115483,\n",
       "  1007816])"
      ]
     },
     "execution_count": 166,
     "metadata": {},
     "output_type": "execute_result"
    }
   ],
   "source": [
    "recommendations(224642)"
   ]
  },
  {
   "cell_type": "markdown",
   "metadata": {},
   "source": [
    "1. Looks like some Hotels with different ID have same name\n",
    "2. Recommendation system provided similar Hotels"
   ]
  },
  {
   "cell_type": "code",
   "execution_count": null,
   "metadata": {},
   "outputs": [],
   "source": []
  }
 ],
 "metadata": {
  "kernelspec": {
   "display_name": "Python 3",
   "language": "python",
   "name": "python3"
  },
  "language_info": {
   "codemirror_mode": {
    "name": "ipython",
    "version": 3
   },
   "file_extension": ".py",
   "mimetype": "text/x-python",
   "name": "python",
   "nbconvert_exporter": "python",
   "pygments_lexer": "ipython3",
   "version": "3.6.4"
  }
 },
 "nbformat": 4,
 "nbformat_minor": 2
}
